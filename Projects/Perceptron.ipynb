{
  "nbformat": 4,
  "nbformat_minor": 0,
  "metadata": {
    "colab": {
      "name": "lab1-Perceptron.ipynb",
      "provenance": [],
      "collapsed_sections": []
    },
    "kernelspec": {
      "name": "python3",
      "display_name": "Python 3"
    }
  },
  "cells": [
    {
      "cell_type": "code",
      "metadata": {
        "colab": {
          "base_uri": "https://localhost:8080/"
        },
        "id": "T-pyAOZ134ti",
        "outputId": "58b895b3-819e-4ad2-ab52-770066f379e4"
      },
      "source": [
        "from sklearn.base import BaseEstimator, ClassifierMixin\r\n",
        "from sklearn.linear_model import Perceptron\r\n",
        "import numpy as np\r\n",
        "import matplotlib.pyplot as plt\r\n",
        "import pdb\r\n",
        "from sklearn.linear_model import Perceptron as skperc\r\n",
        "\r\n",
        "from scipy.io import arff\r\n",
        "import pandas as pd\r\n",
        "\r\n",
        "# Download file with curl\r\n",
        "!curl https://raw.githubusercontent.com/cs472ta/CS472/master/datasets/linsep2nonorigin.arff --output debug-data.arff\r\n",
        "\r\n",
        "data = arff.loadarff('debug-data.arff')\r\n",
        "df = pd.DataFrame(data[0])\r\n",
        "df.head()\r\n",
        "\r\n",
        "np_data = np.array(df)\r\n",
        "\r\n",
        "data = np.array(df)\r\n",
        "X = data[:,0:-1]\r\n",
        "numCols = np.shape(X)[0]\r\n",
        "X_bias = np.concatenate((X,np.ones((numCols,1))),axis=1)\r\n",
        "y = np.reshape([int(s.decode()) for s in data[:,-1]], (-1, 1)) ##Filters out the b's\r\n",
        "\r\n",
        "\r\n",
        "\r\n",
        "\r\n",
        "class PerceptronClassifier(BaseEstimator,ClassifierMixin):\r\n",
        "\r\n",
        "    def __init__(self, lr=.1, shuffle=True):\r\n",
        "        \"\"\" \r\n",
        "            Initialize class with chosen hyperparameters.\r\n",
        "        Args:\r\n",
        "            lr (float): A learning rate / step size.\r\n",
        "            shuffle: Whether to shuffle the training data each epoch. DO NOT \r\n",
        "            SHUFFLE for evaluation / debug datasets.\r\n",
        "        \"\"\"\r\n",
        "        self.lr = lr\r\n",
        "        self.shuffle = shuffle\r\n",
        "        self.accuracyList = []\r\n",
        "\r\n",
        "    ## x is dataset, y is labels, \r\n",
        "    def fit(self, X_bias, y, numEpochs=None , initial_weights=None, zerovector=False,): ## TRAIN\r\n",
        "        \"\"\" \r\n",
        "            Fit the data; run the algorithm and adjust the weights to find a \r\n",
        "            good solution\r\n",
        "        Args:\r\n",
        "            X (array-like): A 2D numpy array with the training data, excluding\r\n",
        "            targets\r\n",
        "            y (array-like): A 2D numpy array with the training targets\r\n",
        "            initial_weights (array-like): allows the user to provide initial \r\n",
        "            weights\r\n",
        "        Returns:\r\n",
        "            self: this allows this to be chained, e.g. model.fit(X,y).predict(X_test)\r\n",
        "        \"\"\"\r\n",
        "\r\n",
        "        if (zerovector):\r\n",
        "            self.weights = np.zeros(X_bias.shape[1])\r\n",
        "        else:\r\n",
        "          self.weights = self.initialize_weights\r\n",
        "            #self.weights = self.initialize_weights(initial_weights) if not initial_weights else initial_weights\r\n",
        "\r\n",
        "        # print(\"X_bias\\n\")\r\n",
        "        # print(X_bias)\r\n",
        "        # print(\"original weights\\n\")\r\n",
        "        # print(self.weights)\r\n",
        "\r\n",
        "        currEpochs = 0\r\n",
        "        # Training\r\n",
        "        done = False\r\n",
        "        if (numEpochs == None):\r\n",
        "          #Exit when weights dont change after 3 epochs\r\n",
        "          \"\"\" Run the network forward \"\"\"\r\n",
        "          while (not done):\r\n",
        "              if self.shuffle:\r\n",
        "                self._shuffle_data(X_bias, y)\r\n",
        "\r\n",
        "              net = self.weights.T.dot(X_bias[i])\r\n",
        "              output = 1 if net > 0 else 0\r\n",
        "              t_minus_z = y[i] - output\r\n",
        "\r\n",
        "              wight_change = self.lr * t_minus_z * X_bias[i, :]\r\n",
        "              if (weight_change == 0):\r\n",
        "                count += 1  \r\n",
        "              if (count == 3):\r\n",
        "                break\r\n",
        "              self.weights = self.weights + weight_change\r\n",
        "              print(\"Iteration: \" + str(currEpochs))\r\n",
        "              currEpochs += 1\r\n",
        "                \r\n",
        "\r\n",
        "        #while (not done): \r\n",
        "        for _ in range(numEpochs):\r\n",
        "     \r\n",
        "            \"\"\" Run the network forward \"\"\"\r\n",
        "            for i in range(X_bias.shape[0]):\r\n",
        "                if self.shuffle:\r\n",
        "                  self._shuffle_data(X_bias, y)\r\n",
        " \r\n",
        "                net = self.weights.T.dot(X_bias[i])\r\n",
        "\r\n",
        "                output = 1 if net > 0 else 0\r\n",
        "                t_minus_z = y[i] - output\r\n",
        "\r\n",
        "                # Compute change in weight and create the new weights\r\n",
        "                self.weights = self.weights + self.lr * t_minus_z * X_bias[i, :]\r\n",
        "\r\n",
        "                \r\n",
        "                # if (self.score(X_bias, y) < .70):\r\n",
        "                #      break\r\n",
        "                \r\n",
        "                # print(\"Iteration: \" + str(currEpochs))\r\n",
        "                currEpochs += 1\r\n",
        "                # print(self.weights)\r\n",
        "\r\n",
        "        # Use for DEBUGGING ->\r\n",
        "       \r\n",
        "\r\n",
        "        # activations = self.pcnfwd(X_bias)\r\n",
        "        # print(\"Final outputs are:\")\r\n",
        "        # print(activations)\r\n",
        "\r\n",
        "        return self\r\n",
        "\r\n",
        "    ## given this x, predict y\r\n",
        "    def predict(self, X):\r\n",
        "        \"\"\" \r\n",
        "            Predict all classes for a dataset X\r\n",
        "        Args:\r\n",
        "            X (array-like): A 2D numpy array with the training data, excluding \r\n",
        "            targets\r\n",
        "        Returns:\r\n",
        "            array, shape (n_samples,)\r\n",
        "                Predicted target values per element in X.\r\n",
        "        \"\"\"\r\n",
        "        #pdb.set_trace()\r\n",
        "        self.activations = np.dot(X, self.weights)\r\n",
        "        return np.where(self.activations>0,1.0,0.0)\r\n",
        "        \r\n",
        "    ## will initialize your weights. Just do random small weights with a numpy function between -1 and 1, include a bias\r\n",
        "    def initialize_weights(self, X_bias):\r\n",
        "        \"\"\" Initialize weights for perceptron. Don't forget the bias!\r\n",
        "        Returns:\r\n",
        "        \"\"\"\r\n",
        "        m = np.shape(X_bias)[1]\r\n",
        "        \r\n",
        "\r\n",
        "        self.weights = np.random.uniform(-1, 1, m)\r\n",
        "        \r\n",
        "        return self.weights\r\n",
        "\r\n",
        "\r\n",
        "\r\n",
        "    def score(self, X, y):\r\n",
        "        \"\"\" \r\n",
        "            Return accuracy of model on a given dataset. Must implement own \r\n",
        "            score function.\r\n",
        "        Args:\r\n",
        "            X (array-like): A 2D numpy array with data, excluding targets\r\n",
        "            y (array-like): A 2D numpy array with targets\r\n",
        "        Returns:\r\n",
        "            score : float\r\n",
        "                Mean accuracy of self.predict(X) wrt. y.\r\n",
        "        \"\"\"\r\n",
        "        #X = np.array(X)\r\n",
        "        predicted_array = self.predict(X)\r\n",
        "\r\n",
        "        correct = 0\r\n",
        "        total = predicted_array.size\r\n",
        "        for i in range(total):\r\n",
        "          if (predicted_array[i] == y[i]):\r\n",
        "            correct += 1\r\n",
        "        # % correct\r\n",
        "        percentage =  correct/total\r\n",
        "        \r\n",
        "        #pdb.set_trace()\r\n",
        "        return percentage\r\n",
        "\r\n",
        "        # meanAcc = 0\r\n",
        "        # correct = 0\r\n",
        "        # total = np.shape(X_bias)[0]\r\n",
        "        # for i in range(total):\r\n",
        "        #     if (self.predict(X_bias)[i] == y[i]):\r\n",
        "        #       correct += 1\r\n",
        "        # accuracy = correct/total\r\n",
        "        # return accuracy\r\n",
        "\r\n",
        "    def _shuffle_data(self, X_bias, y):\r\n",
        "        \"\"\" \r\n",
        "            Shuffle the data! This _ prefix suggests that this method should \r\n",
        "            only be called internally.\r\n",
        "            It might be easier to concatenate X & y and shuffle a single 2D \r\n",
        "            array, rather than shuffling X and y exactly the same way, \r\n",
        "            independently.\r\n",
        "        \"\"\"\r\n",
        "        arrX = X_bias\r\n",
        "        arry = np.array(y) \r\n",
        "        \r\n",
        "        pdb.set_trace()\r\n",
        "        joined = np.concatenate((arrX,arry.transpose),axis=1)\r\n",
        "        np.random.shuffle(joined)\r\n",
        "        X_bias = joined[:,:-1]\r\n",
        "        y = joined[:,-1]\r\n",
        "        return X_bias, y\r\n",
        "        \r\n",
        "\r\n",
        "    ### Not required by sk-learn but required by us for grading. Returns the weights.\r\n",
        "    def get_weights(self):\r\n",
        "        return self.weights\r\n",
        "\r\n",
        "\r\n",
        "\r\n"
      ],
      "execution_count": 358,
      "outputs": [
        {
          "output_type": "stream",
          "text": [
            "  % Total    % Received % Xferd  Average Speed   Time    Time     Time  Current\n",
            "                                 Dload  Upload   Total   Spent    Left  Speed\n",
            "\r  0     0    0     0    0     0      0      0 --:--:-- --:--:-- --:--:--     0\r100   197  100   197    0     0    924      0 --:--:-- --:--:-- --:--:--   924\n"
          ],
          "name": "stdout"
        }
      ]
    },
    {
      "cell_type": "markdown",
      "metadata": {
        "id": "mUqywqTtP3zn"
      },
      "source": [
        "1.1 DEBUG DATA SET"
      ]
    },
    {
      "cell_type": "code",
      "metadata": {
        "colab": {
          "base_uri": "https://localhost:8080/"
        },
        "id": "h-iz4TYUVZWh",
        "outputId": "618605f5-5f87-4e3d-c6d0-554dddc7e7d1"
      },
      "source": [
        "pcn = PerceptronClassifier(.1,False, )\r\n",
        "\r\n",
        "#print(np.array(pcn.weights))\r\n",
        "pcn.fit(X_bias, y, 10, None, True)\r\n",
        "print(pcn.weights)\r\n",
        "print(pcn.score(X_bias, y))"
      ],
      "execution_count": 318,
      "outputs": [
        {
          "output_type": "stream",
          "text": [
            "[-0.23000000000000004 0.1799999999999999 -0.1]\n",
            "0.875\n"
          ],
          "name": "stdout"
        }
      ]
    },
    {
      "cell_type": "markdown",
      "metadata": {
        "id": "tc0cIczYQCiB"
      },
      "source": [
        "1.2 EVALUATION"
      ]
    },
    {
      "cell_type": "code",
      "metadata": {
        "colab": {
          "base_uri": "https://localhost:8080/"
        },
        "id": "4BQQIXTz46tr",
        "outputId": "55362232-d054-4e35-801f-94c160fc3bd4"
      },
      "source": [
        "!curl https://raw.githubusercontent.com/cs472ta/CS472/master/datasets/data_banknote_authentication.arff --output eval-data.arff\r\n",
        "\r\n",
        "data = arff.loadarff('eval-data.arff')\r\n",
        "df = pd.DataFrame(data[0])\r\n",
        "df.head()\r\n",
        "\r\n",
        "np_data = np.array(df)\r\n",
        "\r\n",
        "data = np.array(df)\r\n",
        "X = data[:,0:-1]\r\n",
        "numCols = np.shape(X)[0]\r\n",
        "X_bias = np.concatenate((X,np.ones((numCols,1))),axis=1)\r\n",
        "y = np.reshape([int(s.decode()) for s in data[:,-1]], (-1, 1)) ##Filters out the b's"
      ],
      "execution_count": 320,
      "outputs": [
        {
          "output_type": "stream",
          "text": [
            "  % Total    % Received % Xferd  Average Speed   Time    Time     Time  Current\n",
            "                                 Dload  Upload   Total   Spent    Left  Speed\n",
            "\r  0     0    0     0    0     0      0      0 --:--:-- --:--:-- --:--:--     0\r100 46685  100 46685    0     0   203k      0 --:--:-- --:--:-- --:--:--  203k\n"
          ],
          "name": "stdout"
        }
      ]
    },
    {
      "cell_type": "code",
      "metadata": {
        "colab": {
          "base_uri": "https://localhost:8080/"
        },
        "id": "hvntYyEsgeWi",
        "outputId": "d2058b39-fc5d-4ba8-f767-be681aa9165c"
      },
      "source": [
        "pcn = PerceptronClassifier(.1,False, )\r\n",
        "\r\n",
        "#print(np.array(pcn.weights))\r\n",
        "pcn.fit(X_bias, y, 10, None, True)\r\n",
        "print(pcn.weights)\r\n",
        "print(pcn.score(X_bias, y))"
      ],
      "execution_count": 326,
      "outputs": [
        {
          "output_type": "stream",
          "text": [
            "[-3.80657242 -2.8408210000000014 -3.0719334000000034 -1.4003906000000004\n",
            " 4.899999999999999]\n",
            "0.9876093294460642\n"
          ],
          "name": "stdout"
        }
      ]
    },
    {
      "cell_type": "markdown",
      "metadata": {
        "id": "RRWnfyg6UVnN"
      },
      "source": [
        "2. (10%) Create 2 datasets"
      ]
    },
    {
      "cell_type": "code",
      "metadata": {
        "id": "EAT-pGPIUVTz"
      },
      "source": [
        "X = np.array([[0,.2],[.5,.5],[.3,.6],[.2,.7]])\r\n",
        "Y = np.array([[-1,-1],[-.2,-.2],[-.3,-1],[-.5,-.3]])\r\n",
        "X2 = np.array([[.1,.2],[.1,.6],[.3,.7],[.4,.5]])\r\n",
        "Y2 = np.array([[.1,.3],[.2,.4],[.3,.3],[.4,.8]])\r\n",
        "XY = np.vstack([X,Y])\r\n",
        "XY2 = np.vstack([X2,Y2])\r\n",
        "target_data = np.array([0,0,0,0,1,1,1,1])\r\n",
        "initial_weights = np.zeros(3)\r\n",
        "\r\n",
        "XY_bias = np.concatenate((XY,np.ones((np.shape(XY)[0],1))),axis=1)\r\n",
        "XY2_bias = np.concatenate((XY2,np.ones((np.shape(XY2)[0],1))),axis=1)\r\n"
      ],
      "execution_count": 335,
      "outputs": []
    },
    {
      "cell_type": "code",
      "metadata": {
        "colab": {
          "base_uri": "https://localhost:8080/"
        },
        "id": "85QSWvevhQJp",
        "outputId": "af862815-df79-4802-a05f-0425021e979f"
      },
      "source": [
        "print(XY)\r\n",
        "print(XY2)\r\n",
        "print(target_data)\r\n",
        "print(initial_weights)\r\n",
        "print(XY_bias)\r\n",
        "print(XY2_bias)"
      ],
      "execution_count": 336,
      "outputs": [
        {
          "output_type": "stream",
          "text": [
            "[[ 0.   0.2]\n",
            " [ 0.5  0.5]\n",
            " [ 0.3  0.6]\n",
            " [ 0.2  0.7]\n",
            " [-1.  -1. ]\n",
            " [-0.2 -0.2]\n",
            " [-0.3 -1. ]\n",
            " [-0.5 -0.3]]\n",
            "[[0.1 0.2]\n",
            " [0.1 0.6]\n",
            " [0.3 0.7]\n",
            " [0.4 0.5]\n",
            " [0.1 0.3]\n",
            " [0.2 0.4]\n",
            " [0.3 0.3]\n",
            " [0.4 0.8]]\n",
            "[0 0 0 0 1 1 1 1]\n",
            "[0. 0. 0.]\n",
            "[[ 0.   0.2  1. ]\n",
            " [ 0.5  0.5  1. ]\n",
            " [ 0.3  0.6  1. ]\n",
            " [ 0.2  0.7  1. ]\n",
            " [-1.  -1.   1. ]\n",
            " [-0.2 -0.2  1. ]\n",
            " [-0.3 -1.   1. ]\n",
            " [-0.5 -0.3  1. ]]\n",
            "[[0.1 0.2 1. ]\n",
            " [0.1 0.6 1. ]\n",
            " [0.3 0.7 1. ]\n",
            " [0.4 0.5 1. ]\n",
            " [0.1 0.3 1. ]\n",
            " [0.2 0.4 1. ]\n",
            " [0.3 0.3 1. ]\n",
            " [0.4 0.8 1. ]]\n"
          ],
          "name": "stdout"
        }
      ]
    },
    {
      "cell_type": "markdown",
      "metadata": {
        "id": "QGvvC4IpTdo-"
      },
      "source": [
        "3. (10%) Train on Both Sets with your perceptron code."
      ]
    },
    {
      "cell_type": "code",
      "metadata": {
        "id": "cRSlmij85NgS",
        "colab": {
          "base_uri": "https://localhost:8080/"
        },
        "outputId": "8e4ac160-d73e-4f5a-c353-0a9dc779f5ac"
      },
      "source": [
        "# Train on each Dataset\r\n",
        "\r\n",
        "# slope = -(b / w2) / (b / w1)\r\n",
        "# y-intercept = -b / w2\r\n",
        "# y = (-(-b / w2) / (b / w1))x + (-b / w2)\r\n",
        "\r\n",
        "# My fit function\r\n",
        "# fit(self, X_bias, y, numEpochs=None , initial_weights=None, zerovector=False,)\r\n",
        "\r\n",
        "lin_fit1 = PerceptronClassifier(.1, True)\r\n",
        "w1, w2, b = lin_fit1.fit(XY_bias, target_data, None, initial_weights, False)\r\n",
        "lin_fit1.get_weights() #, 10, None, True)\r\n",
        "domain = np.linspace(min(XY_bias[:,0]) -.1, max(XY_bias[:,0]) + .1, 100)\r\n",
        "\r\n",
        "lin_fit2 = PerceptronClassifier(.1, True)\r\n",
        "w12, w22, b2 = lin_fit2.fit(XY2_bias, target_data, None, initial_weights, False)\r\n",
        "lin_fit2.get_weights()\r\n",
        "domain = np.linespace(min(XY2_bias[:,0]) - .1, max(XY2_bias[:, 0]) + .1, 100)"
      ],
      "execution_count": null,
      "outputs": [
        {
          "output_type": "stream",
          "text": [
            "> <ipython-input-358-05b82452e03d>(201)_shuffle_data()\n",
            "-> joined = np.concatenate((arrX,arry.transpose),axis=1)\n",
            "(Pdb) arry\n",
            "array([0, 0, 0, 0, 1, 1, 1, 1])\n",
            "(Pdb) arry.transpose\n",
            "<built-in method transpose of numpy.ndarray object at 0x7f307a1f08f0>\n",
            "(Pdb) arry.t\n",
            "*** AttributeError: 'numpy.ndarray' object has no attribute 't'\n",
            "(Pdb) arry.transpose()_\n",
            "*** SyntaxError: invalid syntax\n",
            "(Pdb) arry.transpose()\n",
            "array([0, 0, 0, 0, 1, 1, 1, 1])\n",
            "(Pdb) arrX\n",
            "array([[ 0. ,  0.2,  1. ],\n",
            "       [ 0.5,  0.5,  1. ],\n",
            "       [ 0.3,  0.6,  1. ],\n",
            "       [ 0.2,  0.7,  1. ],\n",
            "       [-1. , -1. ,  1. ],\n",
            "       [-0.2, -0.2,  1. ],\n",
            "       [-0.3, -1. ,  1. ],\n",
            "       [-0.5, -0.3,  1. ]])\n"
          ],
          "name": "stdout"
        }
      ]
    },
    {
      "cell_type": "markdown",
      "metadata": {
        "id": "dvS_FcGpVP_2"
      },
      "source": [
        "Discuss the effect of learning rate, inlcuding how many epochs are completed before stopping. For these cases learning rate should have minimal effect."
      ]
    },
    {
      "cell_type": "code",
      "metadata": {
        "colab": {
          "base_uri": "https://localhost:8080/",
          "height": 346
        },
        "id": "bOMXB40CVZMM",
        "outputId": "872bd7f6-ccdc-464c-e3d8-fa3583f5c78f"
      },
      "source": [
        "lin_fit3 = PerceptronClassifier(.1,True)\r\n",
        "lin_fit3.fit(XY, target_data, initial_weights)\r\n",
        "print(\"epochs for lr = .1\")\r\n",
        "print(lin_fit1.get_epochs_ran())\r\n",
        "\r\n",
        "lin_fit3 = PerceptronClassifier(.2,True)\r\n",
        "lin_fit3.fit(XY, target_data, initial_weights)\r\n",
        "print(\"epochs for lr = .2\")\r\n",
        "print(lin_fit1.get_epochs_ran())\r\n",
        "lin_fit3 = PerceptronClassifier(.1,True)\r\n",
        "lin_fit3.fit(XY, target_data, initial_weights)\r\n",
        "print(\"epochs for lr = .5\")\r\n",
        "print(lin_fit1.get_epochs_ran())\r\n",
        "lin_fit3 = PerceptronClassifier(.1,True)\r\n",
        "lin_fit3.fit(XY, target_data, initial_weights)\r\n",
        "print(\"epochs for lr = 1\")\r\n",
        "print(lin_fit1.get_epochs_ran())\r\n",
        "\r\n",
        "# 32 for all of them"
      ],
      "execution_count": 352,
      "outputs": [
        {
          "output_type": "error",
          "ename": "ValueError",
          "evalue": "ignored",
          "traceback": [
            "\u001b[0;31m---------------------------------------------------------------------------\u001b[0m",
            "\u001b[0;31mValueError\u001b[0m                                Traceback (most recent call last)",
            "\u001b[0;32m<ipython-input-352-e7a1a6cd7776>\u001b[0m in \u001b[0;36m<module>\u001b[0;34m()\u001b[0m\n\u001b[1;32m      1\u001b[0m \u001b[0mlin_fit3\u001b[0m \u001b[0;34m=\u001b[0m \u001b[0mPerceptronClassifier\u001b[0m\u001b[0;34m(\u001b[0m\u001b[0;36m.1\u001b[0m\u001b[0;34m,\u001b[0m\u001b[0;32mTrue\u001b[0m\u001b[0;34m)\u001b[0m\u001b[0;34m\u001b[0m\u001b[0;34m\u001b[0m\u001b[0m\n\u001b[0;32m----> 2\u001b[0;31m \u001b[0mlin_fit3\u001b[0m\u001b[0;34m.\u001b[0m\u001b[0mfit\u001b[0m\u001b[0;34m(\u001b[0m\u001b[0mXY\u001b[0m\u001b[0;34m,\u001b[0m \u001b[0mtarget_data\u001b[0m\u001b[0;34m,\u001b[0m \u001b[0minitial_weights\u001b[0m\u001b[0;34m)\u001b[0m\u001b[0;34m\u001b[0m\u001b[0;34m\u001b[0m\u001b[0m\n\u001b[0m\u001b[1;32m      3\u001b[0m \u001b[0mprint\u001b[0m\u001b[0;34m(\u001b[0m\u001b[0;34m\"epochs for lr = .1\"\u001b[0m\u001b[0;34m)\u001b[0m\u001b[0;34m\u001b[0m\u001b[0;34m\u001b[0m\u001b[0m\n\u001b[1;32m      4\u001b[0m \u001b[0mprint\u001b[0m\u001b[0;34m(\u001b[0m\u001b[0mlin_fit1\u001b[0m\u001b[0;34m.\u001b[0m\u001b[0mget_epochs_ran\u001b[0m\u001b[0;34m(\u001b[0m\u001b[0;34m)\u001b[0m\u001b[0;34m)\u001b[0m\u001b[0;34m\u001b[0m\u001b[0;34m\u001b[0m\u001b[0m\n\u001b[1;32m      5\u001b[0m \u001b[0;34m\u001b[0m\u001b[0m\n",
            "\u001b[0;32m<ipython-input-350-86bfc809e260>\u001b[0m in \u001b[0;36mfit\u001b[0;34m(self, X_bias, y, numEpochs, initial_weights, zerovector)\u001b[0m\n\u001b[1;32m     70\u001b[0m         \u001b[0;31m# Training\u001b[0m\u001b[0;34m\u001b[0m\u001b[0;34m\u001b[0m\u001b[0;34m\u001b[0m\u001b[0m\n\u001b[1;32m     71\u001b[0m         \u001b[0mdone\u001b[0m \u001b[0;34m=\u001b[0m \u001b[0;32mFalse\u001b[0m\u001b[0;34m\u001b[0m\u001b[0;34m\u001b[0m\u001b[0m\n\u001b[0;32m---> 72\u001b[0;31m         \u001b[0;32mif\u001b[0m \u001b[0;34m(\u001b[0m\u001b[0mnumEpochs\u001b[0m \u001b[0;34m==\u001b[0m \u001b[0;32mNone\u001b[0m\u001b[0;34m)\u001b[0m\u001b[0;34m:\u001b[0m\u001b[0;34m\u001b[0m\u001b[0;34m\u001b[0m\u001b[0m\n\u001b[0m\u001b[1;32m     73\u001b[0m           \u001b[0;31m#Exit when weights dont change after 3 epochs\u001b[0m\u001b[0;34m\u001b[0m\u001b[0;34m\u001b[0m\u001b[0;34m\u001b[0m\u001b[0m\n\u001b[1;32m     74\u001b[0m           \u001b[0;34m\"\"\" Run the network forward \"\"\"\u001b[0m\u001b[0;34m\u001b[0m\u001b[0;34m\u001b[0m\u001b[0m\n",
            "\u001b[0;31mValueError\u001b[0m: The truth value of an array with more than one element is ambiguous. Use a.any() or a.all()"
          ]
        }
      ]
    },
    {
      "cell_type": "markdown",
      "metadata": {
        "id": "-tq-M52BV6nQ"
      },
      "source": [
        "4. (10%) Graph the instances and decision line for the two cases above (with LR=.1)"
      ]
    },
    {
      "cell_type": "code",
      "metadata": {
        "colab": {
          "base_uri": "https://localhost:8080/",
          "height": 808
        },
        "id": "4f79D8m1VZbp",
        "outputId": "6eb2f70a-1b1f-4528-a27e-095801f77c6b"
      },
      "source": [
        "#Graph decision Line\r\n",
        "fig,axs = plt.subplots(2, figsize=(10,10))\r\n",
        "domain = np.linspace(min(XY[:,0]) -.1, max(XY[:,0]) + .1, 100)\r\n",
        "\r\n",
        "# Creates a range starting at 0 to 10 with 100 points  \r\n",
        "# domain = np.linspace(0, 10, 100) \r\n",
        "\r\n",
        "# b is our 3rd weight\r\n",
        "axs[0].plot(domain, -w1 / w2 * domain + b / w2)\r\n",
        "axs[0].scatter(X[:, 0], X[:,1], color = 'blue')\r\n",
        "axs[0].scatter(Y[:, 0], Y[:,1], color = 'red')\r\n",
        "axs[0].set_xlabel(\"X Values\")\r\n",
        "axs[0].set_ylabel(\"Y Values\")\r\n",
        "axs[0].set_title(\"Perceptron - Best Fit Line\")\r\n",
        "\r\n",
        "axs[0].plot(domain, -w12 / w22 * domain + b2 / w22)\r\n",
        "axs[0].scatter(X2[:, 0], X2[:,1], color = 'blue')\r\n",
        "axs[0].scatter(Y2[:, 0], Y2[:,1], color = 'red')\r\n",
        "axs[0].set_xlabel(\"X Values\")\r\n",
        "axs[0].set_ylabel(\"Y Values\")\r\n",
        "axs[0].set_title(\"Perceptron - Best Fit Line\")"
      ],
      "execution_count": 357,
      "outputs": [
        {
          "output_type": "error",
          "ename": "NameError",
          "evalue": "ignored",
          "traceback": [
            "\u001b[0;31m---------------------------------------------------------------------------\u001b[0m",
            "\u001b[0;31mNameError\u001b[0m                                 Traceback (most recent call last)",
            "\u001b[0;32m<ipython-input-357-b1e58ad9d890>\u001b[0m in \u001b[0;36m<module>\u001b[0;34m()\u001b[0m\n\u001b[1;32m      7\u001b[0m \u001b[0;34m\u001b[0m\u001b[0m\n\u001b[1;32m      8\u001b[0m \u001b[0;31m# b is our 3rd weight\u001b[0m\u001b[0;34m\u001b[0m\u001b[0;34m\u001b[0m\u001b[0;34m\u001b[0m\u001b[0m\n\u001b[0;32m----> 9\u001b[0;31m \u001b[0maxs\u001b[0m\u001b[0;34m[\u001b[0m\u001b[0;36m0\u001b[0m\u001b[0;34m]\u001b[0m\u001b[0;34m.\u001b[0m\u001b[0mplot\u001b[0m\u001b[0;34m(\u001b[0m\u001b[0mdomain\u001b[0m\u001b[0;34m,\u001b[0m \u001b[0;34m-\u001b[0m\u001b[0mw1\u001b[0m \u001b[0;34m/\u001b[0m \u001b[0mw2\u001b[0m \u001b[0;34m*\u001b[0m \u001b[0mdomain\u001b[0m \u001b[0;34m+\u001b[0m \u001b[0mb\u001b[0m \u001b[0;34m/\u001b[0m \u001b[0mw2\u001b[0m\u001b[0;34m)\u001b[0m\u001b[0;34m\u001b[0m\u001b[0;34m\u001b[0m\u001b[0m\n\u001b[0m\u001b[1;32m     10\u001b[0m \u001b[0maxs\u001b[0m\u001b[0;34m[\u001b[0m\u001b[0;36m0\u001b[0m\u001b[0;34m]\u001b[0m\u001b[0;34m.\u001b[0m\u001b[0mscatter\u001b[0m\u001b[0;34m(\u001b[0m\u001b[0mX\u001b[0m\u001b[0;34m[\u001b[0m\u001b[0;34m:\u001b[0m\u001b[0;34m,\u001b[0m \u001b[0;36m0\u001b[0m\u001b[0;34m]\u001b[0m\u001b[0;34m,\u001b[0m \u001b[0mX\u001b[0m\u001b[0;34m[\u001b[0m\u001b[0;34m:\u001b[0m\u001b[0;34m,\u001b[0m\u001b[0;36m1\u001b[0m\u001b[0;34m]\u001b[0m\u001b[0;34m,\u001b[0m \u001b[0mcolor\u001b[0m \u001b[0;34m=\u001b[0m \u001b[0;34m'blue'\u001b[0m\u001b[0;34m)\u001b[0m\u001b[0;34m\u001b[0m\u001b[0;34m\u001b[0m\u001b[0m\n\u001b[1;32m     11\u001b[0m \u001b[0maxs\u001b[0m\u001b[0;34m[\u001b[0m\u001b[0;36m0\u001b[0m\u001b[0;34m]\u001b[0m\u001b[0;34m.\u001b[0m\u001b[0mscatter\u001b[0m\u001b[0;34m(\u001b[0m\u001b[0mY\u001b[0m\u001b[0;34m[\u001b[0m\u001b[0;34m:\u001b[0m\u001b[0;34m,\u001b[0m \u001b[0;36m0\u001b[0m\u001b[0;34m]\u001b[0m\u001b[0;34m,\u001b[0m \u001b[0mY\u001b[0m\u001b[0;34m[\u001b[0m\u001b[0;34m:\u001b[0m\u001b[0;34m,\u001b[0m\u001b[0;36m1\u001b[0m\u001b[0;34m]\u001b[0m\u001b[0;34m,\u001b[0m \u001b[0mcolor\u001b[0m \u001b[0;34m=\u001b[0m \u001b[0;34m'red'\u001b[0m\u001b[0;34m)\u001b[0m\u001b[0;34m\u001b[0m\u001b[0;34m\u001b[0m\u001b[0m\n",
            "\u001b[0;31mNameError\u001b[0m: name 'w1' is not defined"
          ]
        },
        {
          "output_type": "display_data",
          "data": {
            "image/png": "[encoded data removed]",
            "text/plain": [
              "<Figure size 720x720 with 2 Axes>"
            ]
          },
          "metadata": {
            "tags": [],
            "needs_background": "light"
          }
        }
      ]
    },
    {
      "cell_type": "markdown",
      "metadata": {
        "id": "aq4zbA3TloCI"
      },
      "source": [
        "5."
      ]
    },
    {
      "cell_type": "code",
      "metadata": {
        "colab": {
          "base_uri": "https://localhost:8080/",
          "height": 128
        },
        "id": "ViuwPJnnlpI4",
        "outputId": "b8bf19eb-7ce8-4362-af84-b883fd7b5762"
      },
      "source": [
        "data = arff.loadarrff('voting_data.arff')\r\n",
        "df = pd.DataFrame(data[0])\r\n",
        "voting_array = np.array(df)\r\n",
        "\r\n",
        "##UGLY but it works\r\n",
        "voting_array = np.array([[str(element)[2] for element in voting_array[i, :]] for i in range (voting_array.shape[0])])\r\n",
        "mask1 = voting_array == 'n'\r\n",
        "mask1 = voting_array == 'y'\r\n",
        "mask1 = voting_array == 'r'\r\n",
        "mask1 = voting_array == 'd'\r\n",
        "voting_array[mask1] = int(0)\r\n",
        "voting_array[mask2] = int(1)\r\n",
        "voting_array[makk3] = int(0)\r\n",
        "voting_array[mask4] = int(1)\r\n",
        "voting_array = voting_array.astype(int)\r\n",
        "\r\n",
        "voting_fit = PerceptronClassifier(.2, False)\r\n",
        "\r\n",
        "test_score_list = list()\r\n",
        "traning_score_list = list()\r\n",
        "epoch_list = list(2 ** np.arange(4,9))\r\n",
        "n = 5\r\n",
        "\r\n",
        "# loop through the data to find a fit for a random with a 70/30 split\r\n",
        "for i range(n):\r\n",
        "  X, Y = voting_fit.shuffledata()#### Write a helper function maybe?\r\n",
        "  testX, testY = X[:300, :], Y[:300]\r\n",
        "  trainX, trainY = X[300:, :] Y[300:]\r\n",
        "\r\n",
        "  voting_fit.fit(trainX, trainY, None, False, True)\r\n",
        "  test_score = voting_fit.score(testX, testY)\r\n",
        "  training_score = voting_fit.score(trainX, trainY)\r\n",
        "  test_score_list.append(test_score)\r\n",
        "  trainig_score_list.append(training_score)\r\n",
        "\r\n",
        "  ##Tabulate the results\r\n",
        "  ##Make a beautiful table\r\n",
        "\r\n"
      ],
      "execution_count": 355,
      "outputs": [
        {
          "output_type": "error",
          "ename": "SyntaxError",
          "evalue": "ignored",
          "traceback": [
            "\u001b[0;36m  File \u001b[0;32m\"<ipython-input-355-bfa05f29b5de>\"\u001b[0;36m, line \u001b[0;32m25\u001b[0m\n\u001b[0;31m    for i range(5):\u001b[0m\n\u001b[0m              ^\u001b[0m\n\u001b[0;31mSyntaxError\u001b[0m\u001b[0;31m:\u001b[0m invalid syntax\n"
          ]
        }
      ]
    }
  ]
}