{
  "nbformat": 4,
  "nbformat_minor": 0,
  "metadata": {
    "colab": {
      "name": "Lab5 Clustering",
      "provenance": [],
      "collapsed_sections": []
    },
    "kernelspec": {
      "display_name": "Python 3",
      "language": "python",
      "name": "python3"
    },
    "language_info": {
      "codemirror_mode": {
        "name": "ipython",
        "version": 3
      },
      "file_extension": ".py",
      "mimetype": "text/x-python",
      "name": "python",
      "nbconvert_exporter": "python",
      "pygments_lexer": "ipython3",
      "version": "3.8.8"
    }
  },
  "cells": [
    {
      "cell_type": "markdown",
      "metadata": {
        "id": "DVL7_bgmIAPR"
      },
      "source": [
        "# Unsupervised Learning: Clustering Lab\n",
        "\n",
        "\n",
        "\n"
      ]
    },
    {
      "cell_type": "code",
      "metadata": {
        "id": "6ZbYjZZZ_yLV"
      },
      "source": [
        "from sklearn.base import BaseEstimator, ClassifierMixin, ClusterMixin\n",
        "from sklearn.cluster import AgglomerativeClustering, KMeans\n",
        "from sklearn.preprocessing import OneHotEncoder, LabelEncoder\n",
        "from sklearn import preprocessing\n",
        "from scipy.spatial.distance import cdist\n",
        "from scipy.io import arff\n",
        "import numpy as np\n",
        "import matplotlib.pyplot as plt\n",
        "import pdb\n",
        "import pandas as pd\n",
        "import copy"
      ],
      "execution_count": 44,
      "outputs": []
    },
    {
      "cell_type": "markdown",
      "metadata": {
        "id": "sCcEPx5VIORj"
      },
      "source": [
        "## 1. (50%) Implement the k-means clustering algorithm and the HAC (Hierarchical Agglomerative Clustering) algorithm.\n",
        "\n",
        "### 1.1.1 HAC\n",
        "\n",
        "### Code requirements \n",
        "- HAC should support both single link and complete link options.\n",
        "- HAC automatically generates all clusterings from n to 1.  To simplify the amount of output you may want to implement a mechanism to specify for which k values actual output will be generated.\n",
        "\n",
        "\n",
        "---\n",
        "The output should include the following:\n",
        "- The number of clusters (k).\n",
        "- The total SSE of the full clustering. \n",
        "\n",
        "\n",
        "For each cluster report include:\n",
        "\n",
        "\n",
        "- The centroid id - \"Cluster centroid ~ the mean of the data points in the cluster\"\n",
        "- The number of instances tied to that centroid. \n",
        "* The SSE of that cluster. (The sum squared error (SSE) of a single cluster is the sum of the squared euclidean distance of each cluster member to the cluster centroid.)\n",
        "---\n",
        "You only need to handle continuous features"
      ]
    },
    {
      "cell_type": "code",
      "metadata": {
        "id": "TSdS7kgWLchG"
      },
      "source": [
        "def is_equal(a, b):\n",
        "    #pdb.set_trace()\n",
        "    if len(a) != len(b):\n",
        "        return False\n",
        "    if len(a) == 1:\n",
        "        return np.array_equal(a, b)\n",
        "    if len(a) > 1:\n",
        "        for i in range(len(a)):\n",
        "            if np.array_equal(a[i], b[i]):\n",
        "                return True\n",
        "    \n",
        "    return False\n"
      ],
      "execution_count": 45,
      "outputs": []
    },
    {
      "cell_type": "code",
      "metadata": {
        "id": "_a2KSZ_7AN0G"
      },
      "source": [
        "class HACClustering(BaseEstimator, ClusterMixin):\n",
        "\n",
        "    def __init__(self,k=3,link_type='single'): ## add parameters here\n",
        "        \"\"\"\n",
        "        Args:\n",
        "            k = how many final clusters to have\n",
        "            link_type = single or complete. when combining two clusters use complete link or single link\n",
        "        \"\"\"\n",
        "        self.link_type = link_type\n",
        "        self.k = k\n",
        "\n",
        "    def fit(self,X,y=None):\n",
        "        \"\"\" Fit the data; In this lab this will make the K clusters :D\n",
        "        Args:\n",
        "            X (array-like): A 2D numpy array with the training data\n",
        "            y (array-like): An optional argument. Clustering is usually unsupervised so you don't need labels\n",
        "        Returns:\n",
        "            self: this allows this to be chained, e.g. model.fit(X,y).predict(X_test)\n",
        "        \"\"\"\n",
        "        # Initialize \n",
        "        # Generate distance matrix\n",
        "\n",
        "        self.num_vals = len(X[0])\n",
        "        distances = np.array([np.linalg.norm(X - p, ord=2, axis=1) for p in X])\n",
        "        self.clusters = [[point] for point in X]\n",
        "        while len(self.clusters) != self.k:\n",
        "            # if len(self.clusters) == 3:\n",
        "            #     pdb.set_trace()\n",
        "            link = self.single_link(distances)\n",
        "            base_cluster = self.clusters[link[0]]\n",
        "            cluster_to_merge = self.clusters[link[1]]\n",
        "\n",
        "            for i, clust in enumerate(self.clusters):\n",
        "                if is_equal(base_cluster, clust):\n",
        "                    self.clusters.pop(i)\n",
        "                    break\n",
        "      \n",
        "            for i, clust in enumerate(self.clusters):\n",
        "                if is_equal(cluster_to_merge, clust):\n",
        "                    self.clusters.pop(i)\n",
        "                    break;\n",
        "   \n",
        "            for point in cluster_to_merge:\n",
        "                base_cluster.append(point) # Combine clusters (1 and 3)\n",
        " \n",
        "            self.clusters.append(base_cluster) # Add on new combined cluster to the end\n",
        "            #print(\"\\nUpdated Clusters:\\n\", self.clusters)\n",
        "            # if self.link_type == 'single':\n",
        "            #     distances = self.merge_single(link, distances)\n",
        "            # else:\n",
        "            #     distances = self.merge_complete(link, distances)\n",
        "            distances = self.merge(link, distances) # remake the distances matrix by taking out the row and col of the \n",
        "\n",
        "        self.centroid_list = [sum(self.clusters[i]) / len(self.clusters[i]) for i in range(len(self.clusters))]\n",
        "        self.sse = [np.sum((self.clusters[i] - self.centroid_list[i]) ** 2) for i in range(len(self.clusters))]\n",
        "        self.total_sse = np.sum(self.sse)\n",
        "\n",
        "        return self\n",
        "    \n",
        "    def calc_centroid(self, cluster):\n",
        "        centroid = np.zeros(len(cluster[0]))\n",
        "        #pdb.set_trace()\n",
        "        for point in cluster:\n",
        "            for i in range(len(point)):\n",
        "                #pdb.set_trace()\n",
        "                centroid[i] += point[i]\n",
        "        for i, val in enumerate(centroid):\n",
        "            centroid[i] = centroid[i] / len(cluster)\n",
        "        return centroid\n",
        "\n",
        "    def calc_sse(self, cluster):\n",
        "        #pdb.set_trace()\n",
        "        centroid = np.mean(cluster)\n",
        "        sse = np.sum(np.linalg.norm(cluster - centroid, axis = 1) ** 2)\n",
        "        return sse\n",
        "\n",
        "    # Returns the indexes [i,j] to the smallest distance in the distance matrix\n",
        "    def single_link(self, distances):\n",
        "        d = copy.deepcopy(distances)\n",
        "        #pdb.set_trace()\n",
        "        # We don't want to look at the zeros so set them to inf.\n",
        "        d = np.where(d==0, np.inf, d) # np.where(condition[,x,y] -> returns elements chosen from x or y depending on condition\n",
        "        temp = np.unravel_index(d.argmin(), d.shape) # (indices, shape, order='C') Converts a flat index or array of flat indices into a tuple of coordinate arrays\n",
        "        return temp # get the index of the smallest point in matrix\n",
        "    \n",
        "    def complete_link(self, distances):\n",
        "        pdb.set_trace()\n",
        "        d = copy.deepcopy(distances)\n",
        "        temp = np.unravel_index(d.argmax(), d.shape) # (indices, shape, order='C') Converts a flat index or array of flat indices into a tuple of coordinate arrays\n",
        "        return temp # get the index of the largest point in matrix\n",
        "\n",
        "    def merge_single(self, link, distances):\n",
        "        n = distances.shape[0]\n",
        "        m = np.array([distances[link[0]], distances[link[1]]]) #2 cols to compare\n",
        "        m = np.min(m, axis=0)\n",
        "        indices = np.where(m == 0)\n",
        "        m = np.delete(m, indices[0][:2])\n",
        "        m = np.expand_dims(m, 0)\n",
        "\n",
        "    def merge_complete(self, link, distance):\n",
        "        n = distances.shape[0]\n",
        "        m = np.array([distances[link[0]], distances[link[1]]]) #2 cols to compare\n",
        "        m = np.max(m, axis=0)\n",
        "        indices = np.where(m == 0)\n",
        "        m = np.delete(m, indices[0][:2])\n",
        "        m = np.expand_dims(m, 0)\n",
        "\n",
        "    def merge(self, link, distances):\n",
        "        n = distances.shape[0] # Get the correct shape of the distance matrix\n",
        "        m = np.array([distances[link[0]], distances[link[1]]]) # get the distances(row) for cluster 1 and the distances(row) for cluster 3\n",
        "        \n",
        "        if self.link_type == 'single':\n",
        "            m = np.min(m, axis=0) ##### Getting the minimum dist (Single link) #### for each of the columns (take the one with the shortest distance to all the other cols)\n",
        "        else:\n",
        "            m = np.max(m, axis=0) ### Get the maximum distance for each of the cols \n",
        "        \n",
        "        #m = np.expand_dims(m[m != 0], 0) # Add a dimension on the outside, this m[m != 0] is getting rid of the zeros (collapsing the zeros)\n",
        "        m = np.delete(m, link) # Delete the two extra columns\n",
        "        # Delete two rows\n",
        "        distances = np.delete(distances, link, axis=0) # Delete row 1 and 3 from the distances matrix\n",
        "        # Delete two columns\n",
        "        distances = np.delete(distances, link, axis=1) # then delete the columns 1 and 3\n",
        "        distances = np.reshape(distances, (n -2, n-2))\n",
        "        # Add a column\n",
        "        # Add the new vector m (the distances for our combined cluster)\n",
        "        distances = np.c_[distances, m.T] # Add that new vector to the end and at the bottom\n",
        "        m = np.expand_dims(np.append(m, 0),0)\n",
        "        # Add a row\n",
        "        distances = np.r_[distances, m]\n",
        "        # our distance matrix now has a new row and column at the right and on the bottom.\n",
        "        return distances\n",
        "    \n",
        "    def print_clusters(self):\n",
        "        \"\"\"\n",
        "            Used for grading.\n",
        "        \"\"\"\n",
        "        print(\"K = {:d}\".format(self.k))\n",
        "        print(\"Total SSE: {:.4f}\".format(self.total_sse))\n",
        "        \n",
        "        for i, cluster in enumerate(self.clusters):\n",
        "            print(np.array2string(self.centroid_list[i],precision=4,separator=\",\"))\n",
        "            print(\"Number of Points in Cluster: {:d}\".format(len(cluster)))\n",
        "            print(\"Cluster SSE: {:.4f}\\n\\n\".format(self.sse[i]))   \n",
        "        return"
      ],
      "execution_count": 46,
      "outputs": []
    },
    {
      "cell_type": "markdown",
      "metadata": {
        "id": "JzJAubF6OuMz"
      },
      "source": [
        "Using HW data"
      ]
    },
    {
      "cell_type": "code",
      "metadata": {
        "colab": {
          "base_uri": "https://localhost:8080/"
        },
        "id": "7y2ky-NqOw9g",
        "outputId": "b50ee221-a65a-46ea-95f2-fa82a9921d66"
      },
      "source": [
        "x = np.array([\n",
        "              [.2,.3],\n",
        "              [.1, .2],\n",
        "              [.5, .9],\n",
        "              [.9, .4],\n",
        "              [-.2, .1],\n",
        "])\n",
        "hac = HACClustering(1, 'single').fit(x).print_clusters()\n"
      ],
      "execution_count": 47,
      "outputs": [
        {
          "output_type": "stream",
          "text": [
            "K = 1\n",
            "Total SSE: 1.0880\n",
            "[0.3 ,0.38]\n",
            "Number of Points in Cluster: 5\n",
            "Cluster SSE: 1.0880\n",
            "\n",
            "\n"
          ],
          "name": "stdout"
        }
      ]
    },
    {
      "cell_type": "markdown",
      "metadata": {
        "id": "KibCIXIThpbE"
      },
      "source": [
        "### 1.1.2 Debug \n",
        "\n",
        "Debug your model by running it on the [Debug Dataset](https://raw.githubusercontent.com/cs472ta/CS472/master/datasets/abalone.arff)\n",
        "\n",
        "\n",
        "---\n",
        "The dataset was modified to be a lot smaller. The last datapoint should be on line 359 or the point 0.585,0.46,0.185,0.922,0.3635,0.213,0.285,10. The remaining points should be commented out.\n",
        "\n",
        "\n",
        "\n",
        "- Normalize Data\n",
        "- K = 5\n",
        "- Use the first k instances as the initial centroids\n",
        "- Use 4 decimal places and DO NOT ROUND when reporting SSE and centroid values.\n",
        "\n",
        "\n",
        "---\n",
        "Solutions in files:\n",
        "\n",
        "[Debug HAC Single.txt](https://raw.githubusercontent.com/cs472ta/CS472/master/debug_solutions/Debug%20HAC%20Single%20Link.txt)\n",
        "\n",
        "[Debug HAC Complete.txt](https://raw.githubusercontent.com/cs472ta/CS472/master/debug_solutions/Debug%20HAC%20Complete%20Link.txt)"
      ]
    },
    {
      "cell_type": "code",
      "metadata": {
        "id": "1h9g0TOcqzjC",
        "colab": {
          "base_uri": "https://localhost:8080/"
        },
        "outputId": "f62e455a-635f-4b1b-ec10-7a6acc31e844"
      },
      "source": [
        "!curl https://raw.githubusercontent.com/cs472ta/CS472/master/datasets/abalone.arff --output snail-data.arff\n",
        "train_data = arff.loadarff('snail-data.arff')\n",
        "df = pd.DataFrame(train_data[0])\n",
        "data = np.array(df)\n",
        "\n",
        "min_max_scaler = preprocessing.MinMaxScaler()\n",
        "normalized_data = min_max_scaler.fit_transform(data)\n",
        "X_with_labels = copy.deepcopy(normalized_data)\n",
        "X_with_labels2 = copy.deepcopy(normalized_data)\n",
        "X = data[:, 0:-1]\n",
        "labels = data[:, -1]\n",
        "\n",
        "print(\"----------HAC SINGLE---------- \")\n",
        "hac = HACClustering(5, 'single').fit(X_with_labels).print_clusters()\n",
        "print(\"----------HAC COMPLETE ----------\")\n",
        "hac = HACClustering(5, 'complete').fit(X_with_labels).print_clusters()"
      ],
      "execution_count": 48,
      "outputs": [
        {
          "output_type": "stream",
          "text": [
            "  % Total    % Received % Xferd  Average Speed   Time    Time     Time  Current\n",
            "                                 Dload  Upload   Total   Spent    Left  Speed\n",
            "100  187k  100  187k    0     0   881k      0 --:--:-- --:--:-- --:--:--  881k\n",
            "----------HAC SINGLE---------- \n",
            "K = 5\n",
            "Total SSE: 54.4392\n",
            "[0.9189,0.9438,0.7105,0.7016,0.759 ,0.7222,0.4472,0.8824]\n",
            "Number of Points in Cluster: 1\n",
            "Cluster SSE: 0.0000\n",
            "\n",
            "\n",
            "[1.    ,0.9888,0.7895,1.    ,1.    ,0.8915,0.7186,0.5882]\n",
            "Number of Points in Cluster: 1\n",
            "Cluster SSE: 0.0000\n",
            "\n",
            "\n",
            "[0.9189,0.9888,0.8684,0.719 ,0.5797,0.7512,0.6432,0.9412]\n",
            "Number of Points in Cluster: 1\n",
            "Cluster SSE: 0.0000\n",
            "\n",
            "\n",
            "[1.    ,0.9831,0.8026,0.8343,0.6575,0.7825,0.9221,0.8824]\n",
            "Number of Points in Cluster: 2\n",
            "Cluster SSE: 0.0475\n",
            "\n",
            "\n",
            "[0.599 ,0.5923,0.4915,0.2826,0.2682,0.2921,0.2316,0.3849]\n",
            "Number of Points in Cluster: 195\n",
            "Cluster SSE: 54.3917\n",
            "\n",
            "\n",
            "----------HAC COMPLETE ----------\n",
            "K = 5\n",
            "Total SSE: 13.0824\n",
            "[0.7622,0.7658,0.6759,0.4265,0.4016,0.4536,0.3376,0.5217]\n",
            "Number of Points in Cluster: 38\n",
            "Cluster SSE: 1.4989\n",
            "\n",
            "\n",
            "[0.9471,0.934 ,0.8158,0.7457,0.6434,0.7944,0.6457,0.625 ]\n",
            "Number of Points in Cluster: 8\n",
            "Cluster SSE: 0.9490\n",
            "\n",
            "\n",
            "[0.8818,0.8904,0.7582,0.614 ,0.5433,0.5317,0.561 ,0.7794]\n",
            "Number of Points in Cluster: 16\n",
            "Cluster SSE: 1.5328\n",
            "\n",
            "\n",
            "[0.6544,0.649 ,0.5256,0.2879,0.2815,0.3057,0.2288,0.3911]\n",
            "Number of Points in Cluster: 71\n",
            "Cluster SSE: 3.8232\n",
            "\n",
            "\n",
            "[0.3661,0.3505,0.271 ,0.1008,0.1024,0.1058,0.0836,0.2116]\n",
            "Number of Points in Cluster: 67\n",
            "Cluster SSE: 5.2786\n",
            "\n",
            "\n"
          ],
          "name": "stdout"
        }
      ]
    },
    {
      "cell_type": "markdown",
      "metadata": {
        "id": "L5SpaaXF93Cv"
      },
      "source": [
        ""
      ]
    },
    {
      "cell_type": "markdown",
      "metadata": {
        "id": "kY3VNB1ui03N"
      },
      "source": [
        "### 1.1.3 Evaluation\n",
        "\n",
        "We will evaluate your model based on its print_clusters() output using [Evaluation Dataset](https://raw.githubusercontent.com/cs472ta/CS472/master/datasets/seismic-bumps_train.arff)"
      ]
    },
    {
      "cell_type": "code",
      "metadata": {
        "id": "2yAxA78QjDh2",
        "colab": {
          "base_uri": "https://localhost:8080/"
        },
        "outputId": "d7359529-8003-4ff9-b2d6-92b2054605c8"
      },
      "source": [
        "!curl https://raw.githubusercontent.com/cs472ta/CS472/master/datasets/seismic-bumps_train.arff --output eval-data.arff\n",
        "train_data = arff.loadarff('eval-data.arff')\n",
        "df = pd.DataFrame(train_data[0])\n",
        "data = np.array(df)\n",
        "\n",
        "min_max_scaler = preprocessing.MinMaxScaler()\n",
        "normalized_data = min_max_scaler.fit_transform(data)\n",
        "X_with_labels = copy.deepcopy(normalized_data)\n",
        "X_with_labels2 = copy.deepcopy(normalized_data)\n",
        "X = data[:, 0:-1]\n",
        "labels = data[:, -1]\n",
        "\n",
        "print(\"----------HAC SINGLE---------- \")\n",
        "hac = HACClustering(5, 'single').fit(X_with_labels).print_clusters()\n",
        "print(\"----------HAC COMPLETE ----------\")\n",
        "hac = HACClustering(5, 'complete').fit(X_with_labels).print_clusters()"
      ],
      "execution_count": 49,
      "outputs": [
        {
          "output_type": "stream",
          "text": [
            "  % Total    % Received % Xferd  Average Speed   Time    Time     Time  Current\n",
            "                                 Dload  Upload   Total   Spent    Left  Speed\n",
            "100  6392  100  6392    0     0  48793      0 --:--:-- --:--:-- --:--:-- 48424\n",
            "----------HAC SINGLE---------- \n",
            "K = 5\n",
            "Total SSE: 22.4548\n",
            "[0.2774,0.2597,1.    ,0.1224,0.4505,0.7549,0.129 ,0.    ]\n",
            "Number of Points in Cluster: 1\n",
            "Cluster SSE: 0.0000\n",
            "\n",
            "\n",
            "[0.3065,0.3333,0.6979,0.2792,0.3787,1.    ,0.2373,0.    ]\n",
            "Number of Points in Cluster: 1\n",
            "Cluster SSE: 0.0000\n",
            "\n",
            "\n",
            "[0.0884,0.1818,0.    ,0.145 ,0.1538,0.1245,0.    ,0.    ]\n",
            "Number of Points in Cluster: 1\n",
            "Cluster SSE: 0.0000\n",
            "\n",
            "\n",
            "[0.3159,0.3648,0.5145,0.349 ,0.3338,0.3077,0.2868,0.    ]\n",
            "Number of Points in Cluster: 67\n",
            "Cluster SSE: 10.0257\n",
            "\n",
            "\n",
            "[0.714 ,0.7588,0.5603,0.7028,0.6994,0.4864,0.7393,1.    ]\n",
            "Number of Points in Cluster: 70\n",
            "Cluster SSE: 12.4291\n",
            "\n",
            "\n",
            "----------HAC COMPLETE ----------\n",
            "K = 5\n",
            "Total SSE: 15.6967\n",
            "[0.3471,0.3622,0.7897,0.279 ,0.441 ,0.8568,0.2234,0.    ]\n",
            "Number of Points in Cluster: 3\n",
            "Cluster SSE: 0.2178\n",
            "\n",
            "\n",
            "[0.5326,0.6002,0.4536,0.5531,0.5144,0.5401,0.6266,1.    ]\n",
            "Number of Points in Cluster: 21\n",
            "Cluster SSE: 1.8075\n",
            "\n",
            "\n",
            "[0.1656,0.2226,0.3509,0.2328,0.152 ,0.3424,0.1918,0.    ]\n",
            "Number of Points in Cluster: 18\n",
            "Cluster SSE: 2.2794\n",
            "\n",
            "\n",
            "[0.3636,0.4107,0.5609,0.3857,0.3937,0.2808,0.3155,0.    ]\n",
            "Number of Points in Cluster: 49\n",
            "Cluster SSE: 5.0209\n",
            "\n",
            "\n",
            "[0.7918,0.8268,0.606 ,0.7669,0.7787,0.4634,0.7877,1.    ]\n",
            "Number of Points in Cluster: 49\n",
            "Cluster SSE: 6.3712\n",
            "\n",
            "\n"
          ],
          "name": "stdout"
        }
      ]
    },
    {
      "cell_type": "markdown",
      "metadata": {
        "id": "a0ad7LZSqzjD"
      },
      "source": [
        "### 1.2.1 K-Means\n",
        "\n",
        "### Code requirements \n",
        "- Ability to choose k and specify k initial centroids\n",
        "- Use Euclidean Distance as metric\n",
        "- Ability to handle distance ties\n",
        "- Include output label as a cluster feature\n",
        "\n",
        "\n",
        "---\n",
        "The output should include the following:\n",
        "- The number of clusters (k).\n",
        "- The total SSE of the full clustering. \n",
        "\n",
        "\n",
        "For each cluster report include:\n",
        "\n",
        "\n",
        "- The centroid id.\n",
        "- The number of instances tied to that centroid. \n",
        "- The SSE of that cluster. (The sum squared error (SSE) of a single cluster is the sum of the squared euclidean distance of each cluster member to the cluster centroid.)\n",
        "---\n",
        "You only need to handle continuous features"
      ]
    },
    {
      "cell_type": "code",
      "metadata": {
        "id": "o2R-GyJ2qzjD"
      },
      "source": [
        "class KMEANSClustering(BaseEstimator,ClusterMixin):\n",
        "\n",
        "    def __init__(self,k=3,debug=False): ## add parameters here\n",
        "        \"\"\"\n",
        "        Args:\n",
        "            k = how many final clusters to have\n",
        "            debug = if debug is true use the first k instances as the initial centroids otherwise choose random points as the initial centroids.\n",
        "        \"\"\"\n",
        "        self.k = k\n",
        "        self.debug = debug\n",
        "        self.clusters = {}\n",
        "        self.centroids = None\n",
        "        self.sse = np.empty(k)\n",
        "\n",
        "    def fit(self,X,y=None):\n",
        "        \"\"\" Fit the data; In this lab this will make the K clusters :D\n",
        "        Args:\n",
        "            X (array-like): A 2D numpy array with the training data\n",
        "            y (array-like): An optional argument. Clustering is usually unsupervised so you don't need labels\n",
        "        Returns:\n",
        "            self: this allows this to be chained, e.g. model.fit(X,y).predict(X_test)\n",
        "        \"\"\"\n",
        "        if self.debug:\n",
        "            cur_centers = X[:self.k, :].copy() # Grab the first k rows of the dataset\n",
        "        else:\n",
        "            cur_centers = X[np.random.choice(range(len(X)), self.k, replace=False), :].copy() # Grab k random rows of the dataset\n",
        "        \n",
        "        prev_centers = np.zeros_like(cur_centers) # Iniitalize the previous centers \n",
        "        distances = np.empty((len(X), len(prev_centers))) # will hold distances from each point to the 5 centroids\n",
        " \n",
        "        cluster_ids = np.arange(self.k)\n",
        "\n",
        "        # Loop until the previously calculated centers don't change\n",
        "        while (prev_centers != cur_centers).any():\n",
        "            # Calculate distances\n",
        "            for i, center in enumerate(cur_centers):\n",
        "                distances[:, i] = self.calc_distances(X, center) # store distances\n",
        "            \n",
        "            # Rows are different points, Columns are the dist. to each centroid(cluster)\n",
        "            # calculate the closest centroid\n",
        "            # axis = 1 is columns\n",
        "            min_indices = distances.argmin(axis = 1)\n",
        "            # min)\n",
        "            # update centers\n",
        "            prev_centers = cur_centers.copy()\n",
        "            for idx in cluster_ids:\n",
        "                cur_centers[idx, :] = X[min_indices == idx, :].mean(axis = 0)\n",
        "        \n",
        "        # store clusters and sse\n",
        "        for idx in cluster_ids:\n",
        "            cluster = X[min_indices == idx, :]\n",
        "            self.clusters[idx] = cluster\n",
        "            self.sse[idx] = np.sum(self.calc_distances(cluster, cur_centers[idx, :]) ** 2) \n",
        "        self.total_sse = sum(self.sse)\n",
        "        self.centroids = cur_centers\n",
        "        return self\n",
        "\n",
        "    def calc_distances(self, X_points, centroid):\n",
        "        return np.linalg.norm(X_points - centroid, axis = 1)\n",
        "\n",
        "    def print_clusters(self):\n",
        "        \"\"\"\n",
        "            Used for grading.\n",
        "        \"\"\"\n",
        "        print(\"K = {:d}\".format(self.k))\n",
        "        print(\"Total SSE: {:.4f}\".format(self.total_sse))\n",
        "        \n",
        "        for k in self.clusters.keys():\n",
        "            print(np.array2string(self.centroids[k, :],precision=4,separator=\",\"))\n",
        "            print(\"Number of Points in Cluster: {:d}\".format(len(self.clusters[k])))\n",
        "            print(\"Cluster SSE: {:.4f}\\n\\n\".format(self.sse[k]))   \n",
        "        return\n",
        "    \n",
        "    "
      ],
      "execution_count": 50,
      "outputs": []
    },
    {
      "cell_type": "markdown",
      "metadata": {
        "id": "ReCG1j2AqzjE"
      },
      "source": [
        "### 1.2.2 Debug \n",
        "\n",
        "Debug your model by running it on the [Debug Dataset](https://raw.githubusercontent.com/cs472ta/CS472/master/datasets/abalone.arff)\n",
        "\n",
        "\n",
        "- Train until convergence\n",
        "- Normalize Data\n",
        "- K = 5\n",
        "- Use the first k instances as the initial centroids\n",
        "- Use 4 decimal places and DO NOT ROUND when reporting SSE and centroid values\n",
        "\n",
        "\n",
        "---\n",
        "Solutions in files:\n",
        "\n",
        "[Debug K Means.txt](https://raw.githubusercontent.com/cs472ta/CS472/master/debug_solutions/Debug%20K%20Means.txt)"
      ]
    },
    {
      "cell_type": "code",
      "metadata": {
        "id": "KgAyy82gixIF",
        "colab": {
          "base_uri": "https://localhost:8080/"
        },
        "outputId": "e9e65f35-56ef-4a42-9906-2b1f5b62486d"
      },
      "source": [
        "!curl https://raw.githubusercontent.com/cs472ta/CS472/master/datasets/abalone.arff --output debug-data.arff\n",
        "train_data = arff.loadarff('debug-data.arff')\n",
        "df = pd.DataFrame(train_data[0])\n",
        "data = np.array(df)\n",
        "\n",
        "min_max_scaler = preprocessing.MinMaxScaler()\n",
        "normalized_data = min_max_scaler.fit_transform(data)\n",
        "X_with_labels = copy.deepcopy(normalized_data)\n",
        "X = data[:, 0:-1]\n",
        "labels = data[:, -1]\n",
        "\n",
        "print(\"----------KMEANS---------- \")\n",
        "kmc = KMEANSClustering(5, True).fit(X_with_labels).print_clusters()\n"
      ],
      "execution_count": 51,
      "outputs": [
        {
          "output_type": "stream",
          "text": [
            "  % Total    % Received % Xferd  Average Speed   Time    Time     Time  Current\n",
            "                                 Dload  Upload   Total   Spent    Left  Speed\n",
            "\r  0     0    0     0    0     0      0      0 --:--:-- --:--:-- --:--:--     0\r100  187k  100  187k    0     0  2439k      0 --:--:-- --:--:-- --:--:-- 2439k\n",
            "----------KMEANS---------- \n",
            "K = 5\n",
            "Total SSE: 9.7826\n",
            "[0.7325,0.7327,0.627 ,0.3817,0.3633,0.4045,0.3046,0.4839]\n",
            "Number of Points in Cluster: 75\n",
            "Cluster SSE: 4.0454\n",
            "\n",
            "\n",
            "[0.3704,0.3519,0.2686,0.0926,0.0935,0.094 ,0.0792,0.218 ]\n",
            "Number of Points in Cluster: 34\n",
            "Cluster SSE: 0.6609\n",
            "\n",
            "\n",
            "[0.9035,0.905 ,0.7774,0.6579,0.5767,0.6193,0.5893,0.7279]\n",
            "Number of Points in Cluster: 24\n",
            "Cluster SSE: 3.2116\n",
            "\n",
            "\n",
            "[0.5692,0.5628,0.4376,0.211 ,0.2113,0.2248,0.1659,0.317 ]\n",
            "Number of Points in Cluster: 54\n",
            "Cluster SSE: 1.5452\n",
            "\n",
            "\n",
            "[0.1296,0.1037,0.1053,0.0177,0.0211,0.0272,0.0135,0.0724]\n",
            "Number of Points in Cluster: 13\n",
            "Cluster SSE: 0.3195\n",
            "\n",
            "\n"
          ],
          "name": "stdout"
        }
      ]
    },
    {
      "cell_type": "markdown",
      "metadata": {
        "id": "4hvtXTRoqzjF"
      },
      "source": [
        "### 1.2.3 Evaluation\n",
        "\n",
        "We will evaluate your model based on its print_clusters() output using [Evaluation Dataset](https://raw.githubusercontent.com/cs472ta/CS472/master/datasets/seismic-bumps_train.arff)"
      ]
    },
    {
      "cell_type": "code",
      "metadata": {
        "id": "RQQFVgvVqzjF",
        "colab": {
          "base_uri": "https://localhost:8080/"
        },
        "outputId": "04b8c8b8-fc27-4504-80f2-bce14d3487c7"
      },
      "source": [
        "!curl https://raw.githubusercontent.com/cs472ta/CS472/master/datasets/seismic-bumps_train.arff --output eval-data.arff\n",
        "train_data = arff.loadarff('eval-data.arff')\n",
        "df = pd.DataFrame(train_data[0])\n",
        "data = np.array(df)\n",
        "\n",
        "min_max_scaler = preprocessing.MinMaxScaler()\n",
        "normalized_data = min_max_scaler.fit_transform(data)\n",
        "X_with_labels = copy.deepcopy(normalized_data)\n",
        "X = data[:, 0:-1]\n",
        "labels = data[:, -1]\n",
        "\n",
        "print(\"----------KMEANS---------- \")\n",
        "kmc = KMEANSClustering(5, True).fit(X_with_labels).print_clusters()"
      ],
      "execution_count": 52,
      "outputs": [
        {
          "output_type": "stream",
          "text": [
            "  % Total    % Received % Xferd  Average Speed   Time    Time     Time  Current\n",
            "                                 Dload  Upload   Total   Spent    Left  Speed\n",
            "\r  0     0    0     0    0     0      0      0 --:--:-- --:--:-- --:--:--     0\r100  6392  100  6392    0     0   117k      0 --:--:-- --:--:-- --:--:--  117k\n",
            "----------KMEANS---------- \n",
            "K = 5\n",
            "Total SSE: 14.7279\n",
            "[0.5349,0.6013,0.4617,0.5541,0.5232,0.5544,0.6248,1.    ]\n",
            "Number of Points in Cluster: 22\n",
            "Cluster SSE: 2.0160\n",
            "\n",
            "\n",
            "[0.3684,0.4338,0.4356,0.4388,0.3573,0.2988,0.3673,0.    ]\n",
            "Number of Points in Cluster: 31\n",
            "Cluster SSE: 2.4076\n",
            "\n",
            "\n",
            "[0.3658,0.3854,0.7563,0.3093,0.4659,0.3691,0.2413,0.    ]\n",
            "Number of Points in Cluster: 20\n",
            "Cluster SSE: 2.5248\n",
            "\n",
            "\n",
            "[0.1634,0.2137,0.3968,0.2178,0.1555,0.3078,0.1775,0.    ]\n",
            "Number of Points in Cluster: 19\n",
            "Cluster SSE: 1.7770\n",
            "\n",
            "\n",
            "[0.7961,0.831 ,0.6054,0.7709,0.7802,0.4553,0.7919,1.    ]\n",
            "Number of Points in Cluster: 48\n",
            "Cluster SSE: 6.0025\n",
            "\n",
            "\n"
          ],
          "name": "stdout"
        }
      ]
    },
    {
      "cell_type": "markdown",
      "metadata": {
        "id": "9vWiTdlbR2Xh"
      },
      "source": [
        "## 2.1.1 (7.5%) Clustering the Iris Classification problem - HAC\n",
        "\n",
        "Load the Iris Dataset [Iris Dataset](https://raw.githubusercontent.com/cs472ta/CS472/master/datasets/iris.arff)\n",
        "\n",
        "- Use single-link and complete link clustering algorithms\n",
        "- State whether you normalize your data or not (your choice).  \n",
        "- Show your results for clusterings using k = 2-7.  \n",
        "- Graph the total SSE for each k and discuss your results (i.e. what kind of clusters are being made).\n",
        "---"
      ]
    },
    {
      "cell_type": "code",
      "metadata": {
        "colab": {
          "base_uri": "https://localhost:8080/"
        },
        "id": "Q9WZpkrj91L8",
        "outputId": "f1476c66-a2c2-4393-8363-09f1faee4ab8"
      },
      "source": [
        "!curl https://raw.githubusercontent.com/cs472ta/CS472/master/datasets/iris.arff --output iris-data.arff\n",
        "iris_data = arff.loadarff('iris-data.arff')\n",
        "df = pd.DataFrame(iris_data[0])\n",
        "df['class'] = (df['class'].str.decode('utf-8'))\n",
        "# creating instance of labelencoder\n",
        "labelencoder = LabelEncoder()\n",
        "# Assigning numerical values and storing in another column\n",
        "df['class'] = labelencoder.fit_transform(df['class'])\n",
        "data = np.array(df, dtype=np.float64)\n",
        "X_with_labels = copy.deepcopy(data)\n",
        "X = data[:, 0:-1] \n",
        "labels = data[:, -1]"
      ],
      "execution_count": 72,
      "outputs": [
        {
          "output_type": "stream",
          "text": [
            "  % Total    % Received % Xferd  Average Speed   Time    Time     Time  Current\n",
            "                                 Dload  Upload   Total   Spent    Left  Speed\n",
            "\r  0     0    0     0    0     0      0      0 --:--:-- --:--:-- --:--:--     0\r100  7485  100  7485    0     0   130k      0 --:--:-- --:--:-- --:--:--  132k\n"
          ],
          "name": "stdout"
        }
      ]
    },
    {
      "cell_type": "code",
      "metadata": {
        "id": "4SSoasDQSKXb",
        "colab": {
          "base_uri": "https://localhost:8080/",
          "height": 312
        },
        "outputId": "51ad34d8-427a-40f8-fb54-71e2c9bf7cb4"
      },
      "source": [
        "# Iris Classification using single-link\n",
        "print(\"----------HAC SINGLE---------- \")\n",
        "ks = [3,4,5,6,7]\n",
        "sse_list = []\n",
        "for k in ks:\n",
        "    hac = HACClustering(k, 'single').fit(X)\n",
        "    sse_list.append(hac.total_sse)\n",
        "plt.plot(ks, sse_list)\n",
        "plt.title(\"HAC SINGLE\")\n",
        "plt.xlabel('K Clusters')\n",
        "plt.ylabel('SSE')\n",
        "plt.show()\n"
      ],
      "execution_count": 73,
      "outputs": [
        {
          "output_type": "stream",
          "text": [
            "----------HAC SINGLE---------- \n"
          ],
          "name": "stdout"
        },
        {
          "output_type": "display_data",
          "data": {
            "image/png": "[encoded data removed]",
            "text/plain": [
              "<Figure size 432x288 with 1 Axes>"
            ]
          },
          "metadata": {
            "tags": [],
            "needs_background": "light"
          }
        }
      ]
    },
    {
      "cell_type": "code",
      "metadata": {
        "id": "2QhEgCeyqzjG",
        "colab": {
          "base_uri": "https://localhost:8080/",
          "height": 312
        },
        "outputId": "1406d501-e745-4926-b316-185c4c1cb97d"
      },
      "source": [
        "# Iris Classification using complete-link\n",
        "print(\"----------HAC COMPLETE ----------\")\n",
        "ks = [3,4,5,6,7]\n",
        "sse_list = []\n",
        "for k in ks:\n",
        "    hac = HACClustering(k, 'complete').fit(X)\n",
        "    sse_list.append(hac.total_sse)\n",
        "plt.plot(ks, sse_list)\n",
        "plt.title(\"HAC COMPLETE\")\n",
        "plt.xlabel('K Clusters')\n",
        "plt.ylabel('SSE')\n",
        "plt.show()"
      ],
      "execution_count": 71,
      "outputs": [
        {
          "output_type": "stream",
          "text": [
            "----------HAC COMPLETE ----------\n"
          ],
          "name": "stdout"
        },
        {
          "output_type": "display_data",
          "data": {
            "image/png": "[encoded data removed]",
            "text/plain": [
              "<Figure size 432x288 with 1 Axes>"
            ]
          },
          "metadata": {
            "tags": [],
            "needs_background": "light"
          }
        }
      ]
    },
    {
      "cell_type": "markdown",
      "metadata": {
        "id": "MxoZxZlKqzjG"
      },
      "source": [
        "Complete link preformed much better than single link. This is because of a few factors. The Iris data set has 3 distinct output labels. Complete link takes the distance between the farthest elements in clusters, and this forces the clusters from complete link into being \"spherical shaped\" clusters with a consistent diameter. Single link on the other hand, tends to produce long thinner clusters. The points in the resulting space are most likely clustered in spheres, one for each flower classification, thus the preformance boost for complete link. I did not normalize as the input values were small to begin with.\n",
        "\n",
        "The more clusters there are the smalled the sse will be, however we wouldn't want more clusters than 3 becuase the data has only 3 output classifications."
      ]
    },
    {
      "cell_type": "markdown",
      "metadata": {
        "id": "08QK6cpTqzjG"
      },
      "source": [
        "## 2.1.2 (5%) Clustering the Iris Classification problem - HAC\n",
        "\n",
        "Requirements:\n",
        "- Repeat excercise 2.1.1 and include the output label as one of the input features."
      ]
    },
    {
      "cell_type": "code",
      "metadata": {
        "id": "R4R5cMzyqzjG",
        "colab": {
          "base_uri": "https://localhost:8080/",
          "height": 312
        },
        "outputId": "2d35f971-02b1-4084-fc70-c59899b9e5a3"
      },
      "source": [
        "# Clustering Labels using single-link\n",
        "# Iris Classification using complete-link\n",
        "print(\"----------HAC SINGLE WITH LABELS----------\")\n",
        "ks = [3,4,5,6,7]\n",
        "sse_list = []\n",
        "for k in ks:\n",
        "    hac = HACClustering(k, 'single').fit(X_with_labels)\n",
        "    sse_list.append(hac.total_sse)\n",
        "plt.plot(ks, sse_list)\n",
        "plt.title(\"HAC SINGLE WITH LABELS\")\n",
        "plt.xlabel('K Clusters')\n",
        "plt.ylabel('SSE')\n",
        "plt.show()"
      ],
      "execution_count": 76,
      "outputs": [
        {
          "output_type": "stream",
          "text": [
            "----------HAC SINGLE WITH LABELS----------\n"
          ],
          "name": "stdout"
        },
        {
          "output_type": "display_data",
          "data": {
            "image/png": "[encoded data removed]",
            "text/plain": [
              "<Figure size 432x288 with 1 Axes>"
            ]
          },
          "metadata": {
            "tags": [],
            "needs_background": "light"
          }
        }
      ]
    },
    {
      "cell_type": "code",
      "metadata": {
        "id": "KQ_FQhmQqzjH",
        "colab": {
          "base_uri": "https://localhost:8080/",
          "height": 312
        },
        "outputId": "a2178ea5-069c-478d-9ee5-97357d020639"
      },
      "source": [
        "# Clustering Labels using complete-link\n",
        "# Clustering Labels using single-link\n",
        "# Iris Classification using complete-link\n",
        "print(\"----------HAC COMPLETE WITH LABELS----------\")\n",
        "ks = [3,4,5,6,7]\n",
        "sse_list = []\n",
        "for k in ks:\n",
        "    hac = HACClustering(k, 'complete').fit(X_with_labels)\n",
        "    sse_list.append(hac.total_sse)\n",
        "plt.plot(ks, sse_list)\n",
        "plt.title(\"HAC COMPLETE WITH LABELS\")\n",
        "plt.xlabel('K Clusters')\n",
        "plt.ylabel('SSE')\n",
        "plt.show()"
      ],
      "execution_count": 77,
      "outputs": [
        {
          "output_type": "stream",
          "text": [
            "----------HAC COMPLETE WITH LABELS----------\n"
          ],
          "name": "stdout"
        },
        {
          "output_type": "display_data",
          "data": {
            "image/png": "[encoded data removed]",
            "text/plain": [
              "<Figure size 432x288 with 1 Axes>"
            ]
          },
          "metadata": {
            "tags": [],
            "needs_background": "light"
          }
        }
      ]
    },
    {
      "cell_type": "markdown",
      "metadata": {
        "id": "3VDweg5VqzjH"
      },
      "source": [
        "Discuss any differences between the results from 2.1.1 and 2.1.2."
      ]
    },
    {
      "cell_type": "markdown",
      "metadata": {
        "id": "uIPT7eEdlivS"
      },
      "source": [
        "The Complete link preformed better than single link again but they both preformed poorly compared to the HAC models without the inputs included. This is probably due to the method I used to convert the labels into numerical values. Rather than one-hot-encoding the labels I just converted them to numbered labels. My intuitition behind that was that a one-hot-encoded vector wouldn't make a difference when using the euclidean distance metric. The downside to using label encoding is that the numeric values can be misinterpreted as having some sort of order/heiarchy to them. Higher outputs would result in a larger distance.  "
      ]
    },
    {
      "cell_type": "markdown",
      "metadata": {
        "id": "fFXNtLhEqzjH"
      },
      "source": [
        "## 2.2.1 (7.5%) Clustering the Iris Classification problem: K-Means\n",
        "\n",
        "Load the Iris Dataset [Iris Dataset](https://raw.githubusercontent.com/cs472ta/CS472/master/datasets/iris.arff)\n",
        "\n",
        "Run K-Means on the Iris dataset using the output label as a feature and without using the output label as a feature\n",
        "\n",
        "Requirements:\n",
        "- State whether you normalize your data or not (your choice).  \n",
        "- Show your results for clusterings using k = 2-7.  \n",
        "- Graph the total SSE for each k and discuss your results (i.e. what kind of clusters are being made).\n",
        "---"
      ]
    },
    {
      "cell_type": "code",
      "metadata": {
        "colab": {
          "base_uri": "https://localhost:8080/"
        },
        "id": "u5Jv5cxKoqJW",
        "outputId": "c985fd8d-a994-4643-97de-07c2051dc666"
      },
      "source": [
        "!curl https://raw.githubusercontent.com/cs472ta/CS472/master/datasets/iris.arff --output iris-data.arff\n",
        "iris_data = arff.loadarff('iris-data.arff')\n",
        "df = pd.DataFrame(iris_data[0])\n",
        "df['class'] = (df['class'].str.decode('utf-8'))\n",
        "# creating instance of labelencoder\n",
        "labelencoder = LabelEncoder()\n",
        "# Assigning numerical values and storing in another column\n",
        "df['class'] = labelencoder.fit_transform(df['class'])\n",
        "data = np.array(df, dtype=np.float64)\n",
        "X_with_labels = copy.deepcopy(data)\n",
        "X = data[:, 0:-1] \n",
        "labels = data[:, -1]"
      ],
      "execution_count": 78,
      "outputs": [
        {
          "output_type": "stream",
          "text": [
            "  % Total    % Received % Xferd  Average Speed   Time    Time     Time  Current\n",
            "                                 Dload  Upload   Total   Spent    Left  Speed\n",
            "\r  0     0    0     0    0     0      0      0 --:--:-- --:--:-- --:--:--     0\r100  7485  100  7485    0     0   152k      0 --:--:-- --:--:-- --:--:--  152k\n"
          ],
          "name": "stdout"
        }
      ]
    },
    {
      "cell_type": "code",
      "metadata": {
        "colab": {
          "base_uri": "https://localhost:8080/",
          "height": 312
        },
        "id": "anBFRwjqnwNf",
        "outputId": "15f13f88-df0c-4320-d2b2-e9ad8fb174a7"
      },
      "source": [
        "print(\"----------KMEANS WITHOUT LABEL---------- \")\n",
        "ks = [2,3,4,5,6,7]\n",
        "sse_list = []\n",
        "for k in ks:\n",
        "    kmc = KMEANSClustering(k, True).fit(X)\n",
        "    sse_list.append(kmc.total_sse)\n",
        "plt.plot(ks, sse_list)\n",
        "plt.title(\"KMEANS WITHOUT LABEL\")\n",
        "plt.xlabel('K')\n",
        "plt.ylabel('SSE')\n",
        "plt.show()"
      ],
      "execution_count": 83,
      "outputs": [
        {
          "output_type": "stream",
          "text": [
            "----------KMEANS WITHOUT LABEL---------- \n"
          ],
          "name": "stdout"
        },
        {
          "output_type": "display_data",
          "data": {
            "image/png": "[encoded data removed]",
            "text/plain": [
              "<Figure size 432x288 with 1 Axes>"
            ]
          },
          "metadata": {
            "tags": [],
            "needs_background": "light"
          }
        }
      ]
    },
    {
      "cell_type": "code",
      "metadata": {
        "id": "scjL07cdqzjH",
        "colab": {
          "base_uri": "https://localhost:8080/",
          "height": 312
        },
        "outputId": "e8bc58be-3797-4399-91bd-63d2e125451a"
      },
      "source": [
        "print(\"----------KMEANS WITH LABEL---------- \")\n",
        "ks = [2,3,4,5,6,7]\n",
        "sse_list = []\n",
        "for k in ks:\n",
        "    kmc = KMEANSClustering(k, True).fit(X_with_labels)\n",
        "    sse_list.append(kmc.total_sse)\n",
        "plt.plot(ks, sse_list)\n",
        "plt.title(\"KMEANS WITH LABEL\")\n",
        "plt.xlabel('K')\n",
        "plt.ylabel('SSE')\n",
        "plt.show()"
      ],
      "execution_count": 85,
      "outputs": [
        {
          "output_type": "stream",
          "text": [
            "----------KMEANS WITH LABEL---------- \n"
          ],
          "name": "stdout"
        },
        {
          "output_type": "display_data",
          "data": {
            "image/png": "[encoded data removed]",
            "text/plain": [
              "<Figure size 432x288 with 1 Axes>"
            ]
          },
          "metadata": {
            "tags": [],
            "needs_background": "light"
          }
        }
      ]
    },
    {
      "cell_type": "markdown",
      "metadata": {
        "id": "s6jTSGA8qzjI"
      },
      "source": [
        "Compare results and differences between using the output label and excluding the output label"
      ]
    },
    {
      "cell_type": "markdown",
      "metadata": {
        "id": "E9AHa75xuneI"
      },
      "source": [
        "The Labels didn't help but I suspect that is due to the fact that I only used label encoding.  The best number of k was 5, then the sse increased after that. If I implimented the labels different than I believe they would help describe the space the clusters lie in. "
      ]
    },
    {
      "cell_type": "markdown",
      "metadata": {
        "id": "krYFJfU7qzjI"
      },
      "source": [
        "## 2.2.2 (5%) Clustering the Iris Classification problem: K-Means\n",
        "\n",
        "Requirements:\n",
        "- Use the output label as an input feature\n",
        "- Run K-Means 5 times with k=4, each time with different initial random centroids and discuss any variations in the results. "
      ]
    },
    {
      "cell_type": "code",
      "metadata": {
        "id": "-6PZBwB9qzjI",
        "colab": {
          "base_uri": "https://localhost:8080/",
          "height": 312
        },
        "outputId": "adaf9c8e-8e74-4ff9-c9e8-5e3e0b08e54b"
      },
      "source": [
        "print(\"----------KMEANS 5 times, k = 4---------- \")\n",
        "sse_list = []\n",
        "for i in range(10):\n",
        "    kmc = KMEANSClustering(k, False).fit(X_with_labels)\n",
        "    sse_list.append(kmc.total_sse)\n",
        "\n",
        "plt.plot([1,2,3,4,5,6,7,8,9,10], sse_list)\n",
        "plt.title(\"KMEANS WITH LABEL\")\n",
        "plt.xlabel('K')\n",
        "plt.ylabel('SSE')\n",
        "plt.show()"
      ],
      "execution_count": 89,
      "outputs": [
        {
          "output_type": "stream",
          "text": [
            "----------KMEANS 5 times, k = 4---------- \n"
          ],
          "name": "stdout"
        },
        {
          "output_type": "display_data",
          "data": {
            "image/png": "[encoded data removed]",
            "text/plain": [
              "<Figure size 432x288 with 1 Axes>"
            ]
          },
          "metadata": {
            "tags": [],
            "needs_background": "light"
          }
        }
      ]
    },
    {
      "cell_type": "markdown",
      "metadata": {
        "id": "TWB-NDGqqzjI"
      },
      "source": [
        "I ran KMEANS 10 times out of curiosity to see the different results. The location of the centroids initial location greatly affect the results. Its hard to know what points will give us the best results so randomly testing can give us good results. If I were to actually  implement the algorithm for other projects I would store the best starting centroids for the data sets used to use for later predictions and training. "
      ]
    },
    {
      "cell_type": "markdown",
      "metadata": {
        "id": "oBBmeNQ7jvcQ"
      },
      "source": [
        "## 3.1 (12.5%) Run the SK versions of HAC (both single and complete link) on iris including the output label and compare your results with those above.\n",
        "Use the silhouette score for this iris problem(k = 2-7).  You may write your own code to do silhouette (optional extra credit) or you can use sklearn.metrics.silhouette_score. Please state if you coded your own silhouette score function to receive the extra credit points (described below). Discuss how helpful Silhouette appeared to be for selecting which clustering is best. You do not need to supply full Silhouette graphs, but you could if you wanted to.\n",
        "\n",
        "Requirements\n",
        "- Use the Sillhouette score for this iris problem (k= 2-7) \n",
        "- Use at least one other scoring function from [sklearn.metrics](https://scikit-learn.org/stable/modules/model_evaluation.html) and compare the results. State which metric was used. \n",
        "- Possible sklean metrics include (* metrics require ground truth labels):\n",
        "    - adjusted_mutual_info_score*\n",
        "    - adjusted_rand_score*\n",
        "    - homogeneity_score*\n",
        "    - completeness_score*\n",
        "    - fowlkes_mallows_score*\n",
        "    - calinski_harabasz_score\n",
        "    - davies_bouldin_score\n",
        "- Experiment using different hyper-parameters. Discuss Results"
      ]
    },
    {
      "cell_type": "code",
      "metadata": {
        "id": "1-YYsNU4xkXT"
      },
      "source": [
        "!curl https://raw.githubusercontent.com/cs472ta/CS472/master/datasets/iris.arff --output iris-data.arff\n",
        "iris_data = arff.loadarff('iris-data.arff')\n",
        "df = pd.DataFrame(iris_data[0])\n",
        "df['class'] = (df['class'].str.decode('utf-8'))\n",
        "# creating instance of labelencoder\n",
        "labelencoder = LabelEncoder()\n",
        "# Assigning numerical values and storing in another column\n",
        "df['class'] = labelencoder.fit_transform(df['class'])\n",
        "data = np.array(df, dtype=np.float64)\n",
        "X_with_labels = copy.deepcopy(data)\n",
        "X = data[:, 0:-1] \n",
        "labels = data[:, -1]"
      ],
      "execution_count": null,
      "outputs": []
    },
    {
      "cell_type": "code",
      "metadata": {
        "id": "I5_jg4em23GB"
      },
      "source": [
        "# Load sklearn\n",
        "from sklearn import metrics as m\n",
        "from sklearn.cluster import AgglomerativeClustering"
      ],
      "execution_count": 93,
      "outputs": []
    },
    {
      "cell_type": "code",
      "metadata": {
        "id": "OFQv70W2VyqJ",
        "colab": {
          "base_uri": "https://localhost:8080/"
        },
        "outputId": "a96515f7-0cad-45e3-a4c2-30e070e9dc50"
      },
      "source": [
        "for k in range(2, 8):\n",
        "    print(\"K = \", k)\n",
        "    pred_labels = AgglomerativeClustering(n_clusters= k).fit_predict(X)\n",
        "    silScore = m.silhouette_score(X, pred_labels)\n",
        "    amiScore = m.cluster.adjusted_mutual_info_score(labels, pred_labels)\n",
        "    print(\"Silhouette score: \",silScore)\n",
        "    print(\"Adjusted mutual info score: \", amiScore)\n"
      ],
      "execution_count": 97,
      "outputs": [
        {
          "output_type": "stream",
          "text": [
            "K =  2\n",
            "Silhouette score:  0.6863930543445408\n",
            "Adjusted mutual info score:  0.7315847607219574\n",
            "K =  3\n",
            "Silhouette score:  0.5540972908150553\n",
            "Adjusted mutual info score:  0.7671669615713111\n",
            "K =  4\n",
            "Silhouette score:  0.4887398491004218\n",
            "Adjusted mutual info score:  0.7052873669107864\n",
            "K =  5\n",
            "Silhouette score:  0.4841553526240121\n",
            "Adjusted mutual info score:  0.6636220035816015\n",
            "K =  6\n",
            "Silhouette score:  0.3618845152256815\n",
            "Adjusted mutual info score:  0.6071708003966167\n",
            "K =  7\n",
            "Silhouette score:  0.34485408962742314\n",
            "Adjusted mutual info score:  0.6037324340276711\n"
          ],
          "name": "stdout"
        }
      ]
    },
    {
      "cell_type": "markdown",
      "metadata": {
        "id": "_488NjS25cfJ"
      },
      "source": [
        "Record Impressions:\n",
        "\n",
        "I first noticed how the silhouette score decreased as the k increased. This is significan't because it shows that the silhouette score could be a better metric for this dataset. The SSE continued to increase as k increased, but knowing the dataset only had 3 labels I knew that the model needed 3 clusters. \n",
        "\n",
        "The other scoring metric I used was the adjusted mutual info score which I was unfamiliar with. The mutual information is a measure of the similarity between two labels of the same data. It samples both clusters and finds 'mutual information'. The adjusted mutual information does that and accounts for chance. A perfect mutual information score is 1 and our best score got up to .76 for k = 3. Unlike the other metrics we tried the adjusted mutual info score was it's highest at when k = 3. Neither SSE or Silhouette score showed k=3 as the best cluster so this could be an even better scoring metric. "
      ]
    },
    {
      "cell_type": "markdown",
      "metadata": {
        "id": "BBbI4cpyqzjJ"
      },
      "source": [
        "## 3.2 (12.5%) Run the SK version of k-means on iris including the output label and compare your results with those above. \n",
        "\n",
        "Use the silhouette score for this iris problem(k = 2-7). You may write your own code to do silhouette (optional extra credit) or you can use sklearn.metrics.silhouette_score. Please state if you coded your own silhouette score function to receive the extra credit points (described below). Discuss how helpful Silhouette appeared to be for selecting which clustering is best. You do not need to supply full Silhouette graphs, but you could if you wanted to.\n",
        "\n",
        "Requirements\n",
        "- Use the Sillhouette score for this iris problem (k= 2-7) \n",
        "- Use at least one other scoring function form sklearn.metrics and compare the results. State which metric was used\n",
        "- Experiment different hyper-parameters. Discuss Results"
      ]
    },
    {
      "cell_type": "code",
      "metadata": {
        "id": "FAxODcF0qzjK",
        "colab": {
          "base_uri": "https://localhost:8080/"
        },
        "outputId": "c4fa8400-ce8d-4aaf-cd7a-aac5f0e9355b"
      },
      "source": [
        "for k in range(2, 8):\n",
        "    print(\"K = \", k)\n",
        "    clusterer = KMeans(n_clusters=k, random_state=10)\n",
        "    pred_labels = clusterer.fit_predict(X)\n",
        "    #pred_labels = AgglomerativeClustering(n_clusters= k).fit_predict(X)\n",
        "    silScore = m.silhouette_score(X, pred_labels)\n",
        "    amiScore = m.cluster.adjusted_mutual_info_score(labels, pred_labels)\n",
        "    print(\"Silhouette score: \",silScore)\n",
        "    print(\"Adjusted mutual info score: \", amiScore)\n"
      ],
      "execution_count": 99,
      "outputs": [
        {
          "output_type": "stream",
          "text": [
            "K =  2\n",
            "Silhouette score:  0.6808136202936816\n",
            "Adjusted mutual info score:  0.653838071376278\n",
            "K =  3\n",
            "Silhouette score:  0.5525919445499757\n",
            "Adjusted mutual info score:  0.7551191675800485\n",
            "K =  4\n",
            "Silhouette score:  0.4978256901095472\n",
            "Adjusted mutual info score:  0.7172081944051023\n",
            "K =  5\n",
            "Silhouette score:  0.4885175508886279\n",
            "Adjusted mutual info score:  0.6872109247445372\n",
            "K =  6\n",
            "Silhouette score:  0.36650401502359653\n",
            "Adjusted mutual info score:  0.6283901481815655\n",
            "K =  7\n",
            "Silhouette score:  0.3583580240469423\n",
            "Adjusted mutual info score:  0.6643869188548776\n"
          ],
          "name": "stdout"
        }
      ]
    },
    {
      "cell_type": "markdown",
      "metadata": {
        "id": "xoi3NGOTqzjK"
      },
      "source": [
        "*Record impressions*\n",
        "\n",
        "I was surprised that the silhouette score didn't place k = 3 above k = 2. I know the data set has 3 output labels, and we want to use the model to predict from 3 flowers. However, the fact that the model shows k = 2 as having the highest silhouette score means that we need to use 2 models to get all 3 classifiactions. We could use the first model with k=2 to divide the data into 2 clusterings and then 1 more model to cluster the last 2 flowers. \n",
        "\n",
        "Once again the other scoring metric I used was the adjusted mutual information score. K-Means preformed very similar to HAC with complete-link, but the adjusted mutual score is slightly lower for k = 3 for the K-Means model than the ams score for HAC.\n",
        "# The silhouette score gives the average value for all the samples.\n",
        "# This gives a perspective into the density and separation of the formed clusters\n",
        "print(\"For n_clusters = \", n_clusters, \"The average silhouette_score is :\", silhouette_avg)\n"
      ]
    },
    {
      "cell_type": "markdown",
      "metadata": {
        "id": "cTlK-kijk8Mg"
      },
      "source": [
        "## 4. (Optional 5% extra credit) For your silhouette experiment above, write and use your own code to calculate the silhouette scores, rather than the SK or other version. \n"
      ]
    },
    {
      "cell_type": "markdown",
      "metadata": {
        "id": "Cq5ABPS6qzjK"
      },
      "source": [
        "*Show findings here*"
      ]
    },
    {
      "cell_type": "code",
      "metadata": {
        "id": "SyRJTpJMqzjK"
      },
      "source": [
        "# Copy function Below"
      ],
      "execution_count": 65,
      "outputs": []
    },
    {
      "cell_type": "markdown",
      "metadata": {
        "id": "IAneo-WGtjjV"
      },
      "source": [
        "USING HW CODE"
      ]
    },
    {
      "cell_type": "code",
      "metadata": {
        "id": "dDVKjxq2tist"
      },
      "source": [
        ""
      ],
      "execution_count": 65,
      "outputs": []
    },
    {
      "cell_type": "code",
      "metadata": {
        "id": "3nUIslsALPpw"
      },
      "source": [
        ""
      ],
      "execution_count": 65,
      "outputs": []
    }
  ]
}