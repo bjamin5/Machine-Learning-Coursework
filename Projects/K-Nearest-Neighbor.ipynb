{
  "nbformat": 4,
  "nbformat_minor": 0,
  "metadata": {
    "colab": {
      "name": "KNN lab4",
      "provenance": [],
      "collapsed_sections": []
    },
    "kernelspec": {
      "display_name": "Python 3",
      "language": "python",
      "name": "python3"
    },
    "language_info": {
      "codemirror_mode": {
        "name": "ipython",
        "version": 3
      },
      "file_extension": ".py",
      "mimetype": "text/x-python",
      "name": "python",
      "nbconvert_exporter": "python",
      "pygments_lexer": "ipython3",
      "version": "3.6.9"
    }
  },
  "cells": [
    {
      "cell_type": "markdown",
      "metadata": {
        "id": "DVL7_bgmIAPR"
      },
      "source": [
        "# K-Nearest Neighbor Lab\n",
        "\n",
        "\n",
        "\n"
      ]
    },
    {
      "cell_type": "code",
      "metadata": {
        "id": "6ZbYjZZZ_yLV"
      },
      "source": [
        "from sklearn.base import BaseEstimator, ClassifierMixin\n",
        "from sklearn.neighbors import KNeighborsClassifier, KNeighborsRegressor\n",
        "from sklearn.model_selection import train_test_split\n",
        "from scipy.io import arff\n",
        "import pandas as pd\n",
        "import numpy as np\n",
        "import pdb\n",
        "import matplotlib.pyplot as plt\n",
        "import math\n",
        "import copy"
      ],
      "execution_count": 66,
      "outputs": []
    },
    {
      "cell_type": "markdown",
      "metadata": {
        "id": "sCcEPx5VIORj"
      },
      "source": [
        "## 1. (40%) Correctly implement the k-nearest neighbor (KNN) algorithm and the KNN regression algorithm\n",
        "\n",
        "### Code requirements\n",
        "- Use Euclidean distance to decide closest neighbors. \n",
        "- Include optional distance weighting for both algorithms\n"
      ]
    },
    {
      "cell_type": "code",
      "metadata": {
        "colab": {
          "base_uri": "https://localhost:8080/"
        },
        "id": "rhnQKHOKubDI",
        "outputId": "2f3c8801-9dfc-4184-c47f-60d6368efb73"
      },
      "source": [
        "#var_x = np.random.random((10,3))\n",
        "#var_y = np.random.random(3)\n",
        "columntype = [\"num\", \"cat\", \"num\"]\n",
        "columntype = np.array(columntype)\n",
        "print(columntype == 'num')\n",
        "print(var_x[:, columntype == 'num'])\n",
        "print(\"new point: \", var_y[columntype == 'num'])\n",
        "print(np.linalg.norm(var_x - var_y, axis = 1))\n",
        "\n",
        "print((((.95501394 - .74156679) ** 2) + ((.95501394 - .74156679) ** 2)) ** (1/2))\n",
        "print(np.linalg.norm(.95501394 - .7415667))\n",
        "print(np.linalg.norm(.7415667 - .95501394))\n",
        "#print(columntype)\n",
        "#print(columntype == 'num')\n",
        "# print(var_x.shape)\n",
        "# print(var_y.shape)\n",
        "# print((var_x - var_y).shape)\n",
        "\n",
        "# print((np.linalg.norm(var_x - var_y, axis = 1)).shape)\n",
        "\n"
      ],
      "execution_count": 59,
      "outputs": [
        {
          "output_type": "stream",
          "text": [
            "[ True False  True]\n",
            "[[0.95501394 0.74156679]\n",
            " [0.60086886 0.13154574]\n",
            " [0.76417164 0.38422258]\n",
            " [0.19362365 0.29631588]\n",
            " [0.80812269 0.63819761]\n",
            " [0.60149244 0.30650241]\n",
            " [0.81700964 0.62598268]\n",
            " [0.24963625 0.32439719]\n",
            " [0.579226   0.43944754]\n",
            " [0.97466385 0.09976997]]\n",
            "new point:  [0.70339385 0.31047124]\n",
            "[0.56142978 0.20661088 0.27880859 0.62367723 0.64345549 0.53588618\n",
            " 0.50441689 0.53402136 0.41375018 0.43143117]\n",
            "0.3018598543798843\n",
            "0.21344723999999993\n",
            "0.21344723999999993\n"
          ],
          "name": "stdout"
        }
      ]
    },
    {
      "cell_type": "code",
      "metadata": {
        "id": "_a2KSZ_7AN0G"
      },
      "source": [
        "class KNNClassifier(BaseEstimator,ClassifierMixin):\n",
        "    def __init__(self, output_type = \"categorical\", columntype=[], weight_type='inverse_distance', normalize = False): ## add parameters here\n",
        "        \"\"\"\n",
        "        Args:\n",
        "            columntype for each column tells you if continues[real] or if nominal[categoritcal].\n",
        "            weight_type: inverse_distance voting or if non distance weighting. Options = [\"no_weight\",\"inverse_distance\"]\n",
        "        \"\"\"\n",
        "        self.output_type = output_type\n",
        "        self.columntype = np.array(columntype) #Note This won't be needed until part 5 'continuous' or 'nominal'\n",
        "        self.weight_type = weight_type\n",
        "        self.normalize = normalize\n",
        " \n",
        "        \n",
        "\n",
        "    def fit(self, data, target_labels, k = 3):\n",
        "        \"\"\" Fit the data; run the algorithm (for this lab really just saves the data :D)\n",
        "        Args:\n",
        "            X (array-like): A 2D numpy array with the training data, excluding targets\n",
        "            y (array-like): A 2D numpy array with the training targets\n",
        "        Returns:\n",
        "            self: this allows this to be chained, e.g. model.fit(X,y).predict(X_test)\n",
        "        \"\"\"\n",
        "\n",
        "        self.k = k\n",
        "        self.train_data = np.array(data)\n",
        "        self.target_labels = target_labels\n",
        "        \n",
        "        self.train_min = []\n",
        "        self.train_max = []\n",
        "\n",
        "        #pdb.set_trace()\n",
        "        if self.normalize:\n",
        "            # get mins and maxs for each column\n",
        "            for i in range(data.shape[1]):\n",
        "                self.train_min.append(np.amin(data.T[i])) # Get min from col\n",
        "                self.train_max.append(np.amax(data.T[i])) # Get max from col\n",
        "\n",
        "            #(x-xmin)/(xmax-xmin) use train data's mins and maxs \n",
        "            for i in range(data.shape[0]): # rows\n",
        "                for j in range(data.shape[1]): # cols\n",
        "                    if self.columntype[j] == 'numeric':\n",
        "                        self.train_data[i][j] = np.nan_to_num((self.train_data[i][j] - self.train_min[j]) / (self.train_max[j] - self.train_min[j])) # Normalize all train_data\n",
        "        \n",
        "        #pdb.set_trace()\n",
        "        return self\n",
        "    \n",
        "    def run_knn(self, new_point): \n",
        "        distances_temp = np.linalg.norm(np.float64(self.train_data[:, self.columntype == 'numeric'] - new_point[self.columntype == 'numeric']), axis = 1)\n",
        "\n",
        "        # Store indexes for non numeric data types for input\n",
        "        indexes_to_compare = []\n",
        "        #pdb.set_trace()\n",
        "\n",
        "        for i,col in enumerate(self.columntype):\n",
        "            if col != 'numeric':\n",
        "                indexes_to_compare.append(i)\n",
        "        \n",
        "        #pdb.set_trace()\n",
        "        # compare categorical values and add 1 dist if they are the same\n",
        "        for d, row in enumerate(self.train_data):\n",
        "            for ind in indexes_to_compare:\n",
        "                if self.train_data[d][ind] != new_point[ind]:\n",
        "                    #print(\"[ \", self.train_data[d][ind], \" Did not match -> \", new_point[ind], \" ]\")\n",
        "                    distances_temp[d] += 1 # Add 1 to distance if categorical col's values DONT match up\n",
        "\n",
        "        # Create pairs with target label\n",
        "        distances = []\n",
        "        for i,dist in enumerate(distances_temp):\n",
        "            distances.append((dist, self.target_labels[i]))\n",
        "        \n",
        "        # Get k nearest neighbors\n",
        "        distances.sort()\n",
        "        neighbors = distances[:self.k]        \n",
        "        #print(\"Neighbors: \", neighbors)\n",
        "        # For NUMERICAL outputs\n",
        "        if self.output_type == 'numeric':\n",
        "            # Output the mean of the k-nearest neighbors\n",
        "            values = []\n",
        "            weights = []\n",
        "\n",
        "            if self.weight_type == 'no_weight':\n",
        "                for distance, value in neighbors:\n",
        "                    values.append(value)\n",
        "\n",
        "                return np.array(values).mean()\n",
        "\n",
        "            elif self.weight_type == 'inverse_distance':\n",
        "                #pdb.set_trace()\n",
        "                for distance, value in neighbors:\n",
        "                    w = (1 / distance ** 2) if distance != 0 else 0\n",
        "                    weights.append(w)\n",
        "                    values.append(value*w)\n",
        "                    \n",
        "            return np.array(values).sum()/np.array(weights).sum() # Divide the sum of the values by the sum of the weights\n",
        "        else: ## For CATEGORICAL outputs\n",
        "            if self.weight_type == 'no_weight':\n",
        "                votes = {}\n",
        "                for curr_point in neighbors:\n",
        "                    if curr_point[1] in votes:\n",
        "                        votes[curr_point[1]] += 1\n",
        "                    else:\n",
        "                        votes[curr_point[1]] = 1\n",
        "            elif self.weight_type == 'inverse_distance':\n",
        "                votes = {}\n",
        "                for curr_point in neighbors:\n",
        "                    if curr_point[1] in votes:\n",
        "                        votes[curr_point[1]] += (1 / curr_point[0] ** 2) if curr_point[0] != 0 else 0.0001 # Weight by distance\n",
        "                    else:\n",
        "                        votes[curr_point[1]] = (1 / curr_point[0] ** 2)\n",
        "            #pdb.set_trace()\n",
        "            best_key = None\n",
        "            best_votes = 0\n",
        "            #pdb.set_trace()\n",
        "            for key in votes.keys():\n",
        "                if (votes[key] > best_votes):\n",
        "                    best_key = key\n",
        "                    best_votes = votes[best_key]\n",
        "            #pdb.set_trace()\n",
        "            return best_key\n",
        "        #print(\"Votes: \", votes)\n",
        "        \n",
        "    def predict(self, test_data, test_labels):\n",
        "        \"\"\" Predict all classes for a dataset X\n",
        "        Args:\n",
        "            X (array-like): A 2D numpy array with the training data, excluding targets\n",
        "        Returns:\n",
        "            array, shape (n_samples,)\n",
        "                Predicted target values per element in X.\n",
        "        \"\"\"\n",
        "        new_test_data = copy.deepcopy(test_data)\n",
        "        #pdb.set_trace()\n",
        "        if self.normalize:\n",
        "            # Normalize test data with train maxs and mins\n",
        "            for i in range(test_data.shape[0]):\n",
        "                for j in range(test_data.shape[1]):\n",
        "                    if self.columntype[j] == 'numeric':\n",
        "                        new_test_data[i][j] = (test_data[i][j] - self.train_min[j]) / (self.train_max[j] - self.train_min[j])\n",
        "\n",
        "        #pdb.set_trace()\n",
        "        total_error = 0\n",
        "        num_correct = 0\n",
        "        self.mse = 0\n",
        "        self.accuracy = 0\n",
        "        total = new_test_data.shape[0]\n",
        "        if self.output_type == 'numeric': # For NUMERICAL outputs\n",
        "            for i,row in enumerate(new_test_data):\n",
        "                output = self.run_knn(row)\n",
        "                #print(\"Output: \", output)\n",
        "                total_error += (test_labels[i] - output) ** 2\n",
        "            self.mse = total_error / test_data.shape[0]\n",
        "        \n",
        "        else:\n",
        "            for i,row in enumerate(test_data): # For CATEGORICAL outputs                \n",
        "                output = self.run_knn(row)\n",
        "                if output == test_labels[i]:\n",
        "                    num_correct += 1\n",
        "            self.accuracy = num_correct / total\n",
        "        \n",
        "         \n",
        "        \n",
        "        return self  "
      ],
      "execution_count": 67,
      "outputs": []
    },
    {
      "cell_type": "markdown",
      "metadata": {
        "id": "-7yhKRgoMs6B"
      },
      "source": [
        ""
      ]
    },
    {
      "cell_type": "markdown",
      "metadata": {
        "id": "uGRC_j4_Shw0"
      },
      "source": [
        "## 1.1 Debug and Evaluation\n",
        "\n",
        "Debug and Evaluate your model using the parameters below:\n",
        "\n",
        "- Use distance weighting\n",
        "- KNN = 3 (three nearest neighbors)\n",
        "- Don’t normalize the data\n",
        "- Use Euclidean Distance\n",
        "\n",
        "---\n",
        "\n",
        "### 1.1.1 Debug\n",
        "\n",
        "Debug your model by running it on the [seismic bumps](https://archive.ics.uci.edu/ml/datasets/seismic-bumps) problem.\n",
        "- Use this [training set](https://raw.githubusercontent.com/cs472ta/CS472/master/datasets/seismic-bumps_train.arff) and this [test set](https://raw.githubusercontent.com/cs472ta/CS472/master/datasets/seismic-bumps_test.arff)\n",
        "- Use distance weighting\n",
        "- KNN = 3 (three nearest neighbors)\n",
        "- Don’t normalize the data\n",
        "- Use Euclidean Distance\n",
        "\n",
        "Expected Results:\n",
        "- Acc = [93.57]\n",
        "- Link to [debug solution](https://github.com/cs472ta/CS472/blob/master/debug_solutions/seismic-bump-prediction.csv)\n"
      ]
    },
    {
      "cell_type": "code",
      "metadata": {
        "colab": {
          "base_uri": "https://localhost:8080/"
        },
        "id": "WCn3zywnwkg7",
        "outputId": "e989d094-6138-4c35-903a-3ed7d6f20136"
      },
      "source": [
        "test_data = arff.loadarff('seismic-test-data.arff')\n",
        "print(test_data[1].types())"
      ],
      "execution_count": 64,
      "outputs": [
        {
          "output_type": "stream",
          "text": [
            "['numeric', 'numeric', 'numeric', 'numeric', 'numeric', 'numeric', 'numeric', 'nominal']\n"
          ],
          "name": "stdout"
        }
      ]
    },
    {
      "cell_type": "code",
      "metadata": {
        "id": "7PyCzPSVShw0",
        "colab": {
          "base_uri": "https://localhost:8080/"
        },
        "outputId": "4c195739-76ea-4a0c-b925-3206088f3933"
      },
      "source": [
        "# Load seismic bumps data\n",
        "!curl https://raw.githubusercontent.com/cs472ta/CS472/master/datasets/seismic-bumps_train.arff --output seismic-data.arff\n",
        "train_data = arff.loadarff('seismic-data.arff')\n",
        "df = pd.DataFrame(train_data[0])\n",
        "# Remove the 'b' \n",
        "key = 'Class'\n",
        "df[key] = df[key].str.decode('utf-8')\n",
        "data = np.array(df)\n",
        "X = data[:,0:-1]\n",
        "y = data[:,-1]\n",
        "\n",
        "!curl https://raw.githubusercontent.com/cs472ta/CS472/master/datasets/seismic-bumps_test.arff --output seismic-test-data.arff\n",
        "test_data = arff.loadarff('seismic-test-data.arff')\n",
        "columntype = test_data[1].types()\n",
        "columntype = columntype[:-1] # Remove the target columns\n",
        "df = pd.DataFrame(test_data[0])\n",
        "# remove the 'b'\n",
        "df['Class'] = df[key].str.decode('utf-8')\n",
        "test_data = np.array(df)\n",
        "X_test = test_data[:,0:-1]\n",
        "y_test = test_data[:, -1]\n",
        "\n",
        "# Train and Predict on training and test set\n",
        "knn1 = KNNClassifier(\"categorical\", columntype,\"inverse_distance\", False)\n",
        "knn1.fit(X,y,3).predict(X_test, y_test)\n",
        "print(\"Accuracy: \", knn1.accuracy)"
      ],
      "execution_count": 6,
      "outputs": [
        {
          "output_type": "stream",
          "text": [
            "  % Total    % Received % Xferd  Average Speed   Time    Time     Time  Current\n",
            "                                 Dload  Upload   Total   Spent    Left  Speed\n",
            "100  6392  100  6392    0     0  88777      0 --:--:-- --:--:-- --:--:-- 88777\n",
            "  % Total    % Received % Xferd  Average Speed   Time    Time     Time  Current\n",
            "                                 Dload  Upload   Total   Spent    Left  Speed\n",
            "100  9597  100  9597    0     0   183k      0 --:--:-- --:--:-- --:--:--  183k\n",
            "Accuracy:  0.9357142857142857\n"
          ],
          "name": "stdout"
        }
      ]
    },
    {
      "cell_type": "markdown",
      "metadata": {
        "id": "1UwQguRVShw1"
      },
      "source": [
        "### 1.1.2 Evaluate\n",
        "\n",
        "We will evaluate your model based on its performance on the [diabetes](https://archive.ics.uci.edu/ml/datasets/Diabetes) problem.\n",
        "- Use this [training set](https://raw.githubusercontent.com/cs472ta/CS472/master/datasets/diabetes_train.arff) and this [test set](https://raw.githubusercontent.com/cs472ta/CS472/master/datasets/diabetes_test.arff)"
      ]
    },
    {
      "cell_type": "code",
      "metadata": {
        "id": "agEuYxehShw1",
        "colab": {
          "base_uri": "https://localhost:8080/"
        },
        "outputId": "4a480435-d289-4d7c-8671-4b1c4d0636cd"
      },
      "source": [
        "# Load Diebetes data\n",
        "!curl https://raw.githubusercontent.com/cs472ta/CS472/master/datasets/diabetes_train.arff --output diebetes-data.arff\n",
        "train_data = arff.loadarff('diebetes-data.arff')\n",
        "df = pd.DataFrame(train_data[0])\n",
        "# Remove the 'b' \n",
        "key = 'class'\n",
        "df[key] = df[key].str.decode('utf-8')\n",
        "data = np.array(df)\n",
        "X = data[:,0:-1]\n",
        "y = data[:,-1]\n",
        "\n",
        "!curl https://raw.githubusercontent.com/cs472ta/CS472/master/datasets/diabetes_test.arff --output diebetes-test-data.arff\n",
        "test_data = arff.loadarff('diebetes-test-data.arff')\n",
        "columntype = test_data[1].types()\n",
        "columntype = columntype[:-1] # Remove the target columns\n",
        "df = pd.DataFrame(test_data[0])\n",
        "\n",
        "# remove the 'b'\n",
        "df['class'] = df[key].str.decode('utf-8')\n",
        "test_data = np.array(df)\n",
        "X_test = test_data[:,0:-1]\n",
        "y_test = test_data[:, -1]\n",
        "\n",
        "# Train and Predict on training and test set\n",
        "knn2 = KNNClassifier(\"categorical\", columntype,\"inverse_distance\",False)\n",
        "knn2.fit(X,y).predict(X_test, y_test)\n",
        "print(\"Accuracy: \", knn2.accuracy)"
      ],
      "execution_count": null,
      "outputs": [
        {
          "output_type": "stream",
          "text": [
            "  % Total    % Received % Xferd  Average Speed   Time    Time     Time  Current\n",
            "                                 Dload  Upload   Total   Spent    Left  Speed\n",
            "100 37419  100 37419    0     0   205k      0 --:--:-- --:--:-- --:--:--  205k\n",
            "  % Total    % Received % Xferd  Average Speed   Time    Time     Time  Current\n",
            "                                 Dload  Upload   Total   Spent    Left  Speed\n",
            "100 73698  100 73698    0     0   389k      0 --:--:-- --:--:-- --:--:--  386k\n",
            "Accuracy:  0.890625\n"
          ],
          "name": "stdout"
        }
      ]
    },
    {
      "cell_type": "markdown",
      "metadata": {
        "id": "9vWiTdlbR2Xh"
      },
      "source": [
        "## 2. (10%) Use the k-nearest neighbor algorithm (without distance weighting) for the [magic telescope](http://archive.ics.uci.edu/ml/datasets/MAGIC+Gamma+Telescope) problem\n",
        "\n",
        "- Use this [training set](https://raw.githubusercontent.com/cs472ta/CS472/master/datasets/magic_telescope_train.arff) and this [test set](https://raw.githubusercontent.com/cs472ta/CS472/master/datasets/magic_telescope_test.arff) \n",
        "\n",
        "### 2.1\n",
        "- Try it with k=3 and without normalization\n"
      ]
    },
    {
      "cell_type": "code",
      "metadata": {
        "colab": {
          "base_uri": "https://localhost:8080/"
        },
        "id": "piUPgcGTma1_",
        "outputId": "3d6d7055-30bc-468e-c83e-f8a8d7363871"
      },
      "source": [
        "# Load Magic Telescope data\n",
        "!curl https://raw.githubusercontent.com/cs472ta/CS472/master/datasets/magic_telescope_train.arff --output telescope-data.arff\n",
        "train_data = arff.loadarff('telescope-data.arff')\n",
        "df = pd.DataFrame(train_data[0])\n",
        "# Remove the 'b' \n",
        "key = 'class'\n",
        "df[key] = df[key].str.decode('utf-8')\n",
        "data = np.array(df)\n",
        "X = data[:,0:-1]\n",
        "y = data[:,-1]\n",
        "\n",
        "!curl https://raw.githubusercontent.com/cs472ta/CS472/master/datasets/magic_telescope_test.arff --output telescope-test-data.arff\n",
        "test_data = arff.loadarff('telescope-test-data.arff')\n",
        "columntype = test_data[1].types()\n",
        "columntype = columntype[:-1] # Remove the target columns\n",
        "df = pd.DataFrame(test_data[0])\n",
        "# remove the 'b'\n",
        "df['class'] = df[key].str.decode('utf-8')\n",
        "test_data = np.array(df)\n",
        "X_test = test_data[:,0:-1]\n",
        "y_test = test_data[:, -1]"
      ],
      "execution_count": 3,
      "outputs": [
        {
          "output_type": "stream",
          "text": [
            "  % Total    % Received % Xferd  Average Speed   Time    Time     Time  Current\n",
            "                                 Dload  Upload   Total   Spent    Left  Speed\n",
            "100  937k  100  937k    0     0  8762k      0 --:--:-- --:--:-- --:--:-- 8762k\n",
            "  % Total    % Received % Xferd  Average Speed   Time    Time     Time  Current\n",
            "                                 Dload  Upload   Total   Spent    Left  Speed\n",
            "100  505k  100  505k    0     0  4957k      0 --:--:-- --:--:-- --:--:-- 4957k\n"
          ],
          "name": "stdout"
        }
      ]
    },
    {
      "cell_type": "code",
      "metadata": {
        "id": "4SSoasDQSKXb",
        "colab": {
          "base_uri": "https://localhost:8080/"
        },
        "outputId": "fefd4e3e-f398-4589-a4a7-87ea6c2ad42f"
      },
      "source": [
        "# Train and Predict on training and test set\n",
        "knn3 = KNNClassifier(\"categorical\", columntype,\"no_weight\", False)\n",
        "knn3.fit(X,y,3).predict(X_test, y_test)\n",
        "print(\"Accuracy: \", knn3.accuracy)\n"
      ],
      "execution_count": 80,
      "outputs": [
        {
          "output_type": "stream",
          "text": [
            "Accuracy:  0.8082808280828083\n"
          ],
          "name": "stdout"
        }
      ]
    },
    {
      "cell_type": "markdown",
      "metadata": {
        "id": "x1KEnbRNShw2"
      },
      "source": [
        "### 2.2\n",
        "- Try it with k=3 and with normalization (input features normalized between 0 and 1). Use the normalization formula (x-xmin)/(xmax-xmin)"
      ]
    },
    {
      "cell_type": "code",
      "metadata": {
        "id": "Lf6moY1gShw2",
        "colab": {
          "base_uri": "https://localhost:8080/"
        },
        "outputId": "1d8c7ad4-81f9-48ba-8102-cc38b0df75c3"
      },
      "source": [
        "# Train/Predict with normalization\n",
        "knn4 = KNNClassifier(\"categorical\", columntype, \"no_weight\", True)\n",
        "knn4.fit(X,y,3).predict(X_test, y_test)\n",
        "print(\"Accuracy: \", knn4.accuracy)"
      ],
      "execution_count": 6,
      "outputs": [
        {
          "output_type": "stream",
          "text": [
            "Accuracy:  0.8306330633063307\n"
          ],
          "name": "stdout"
        }
      ]
    },
    {
      "cell_type": "markdown",
      "metadata": {
        "id": "aZEp0PUSShw2"
      },
      "source": [
        "The classifier with normalized data has a %3 percent increase in accuracy. This is because when we normalized the data it affected which points were included in our k nearest points, using the Euclidean distance."
      ]
    },
    {
      "cell_type": "markdown",
      "metadata": {
        "id": "Pkc3txEcShw2"
      },
      "source": [
        "### 2.3\n",
        "\n",
        "- Using your normalized data, create one graph with classification accuracy on the test set over k values. \n",
        "    - Use odd values of k from 1 to 15.\n",
        "- As a rough sanity check, typical knn accuracies for the magic telescope data set are 75-85%"
      ]
    },
    {
      "cell_type": "code",
      "metadata": {
        "id": "QCFUHt9ZAhBi"
      },
      "source": [
        "def predict_with_several_k(k, knn, X, y, X_test, y_test):\n",
        "    accuracy = []\n",
        "    for k_val in k:\n",
        "        knn.fit(X,y,k_val).predict(X_test, y_test)\n",
        "        accuracy.append(knn.accuracy)\n",
        "    return accuracy"
      ],
      "execution_count": 95,
      "outputs": []
    },
    {
      "cell_type": "code",
      "metadata": {
        "id": "d7wiQGZbShw3",
        "colab": {
          "base_uri": "https://localhost:8080/",
          "height": 278
        },
        "outputId": "6eb3bab3-10a6-4f7f-9531-5eb76221cfd7"
      },
      "source": [
        "# Train/Predict with normalization using k=1,3,...,15\n",
        "k_vals = [1, 3, 5, 7, 9, 11, 13, 15]\n",
        "knn5 = KNNClassifier(\"categorical\", columntype,\"no_weight\", True)\n",
        "accuracy_list = predict_with_several_k(k_vals, knn5, X, y, X_test, y_test)\n",
        "plt.plot(k_vals, accuracy_list)\n",
        "x_labels = [\"1\", \"3\", \"5\", \"7\", \"9\", \"11\", \"13\", \"15\"]\n",
        "plt.xlabel(\"Vals of k (Odd 1 - 15)\")\n",
        "plt.ylabel(\"Accuracy\")\n",
        "plt.show()"
      ],
      "execution_count": 10,
      "outputs": [
        {
          "output_type": "display_data",
          "data": {
            "image/png": "[encoded data removed]",
            "text/plain": [
              "<Figure size 432x288 with 1 Axes>"
            ]
          },
          "metadata": {
            "tags": [],
            "needs_background": "light"
          }
        }
      ]
    },
    {
      "cell_type": "markdown",
      "metadata": {
        "id": "LdP3N7vPShw3"
      },
      "source": [
        "# For the rest of the experiments use only normalized data"
      ]
    },
    {
      "cell_type": "markdown",
      "metadata": {
        "id": "SIRG42TgSR4x"
      },
      "source": [
        "## 3. (10%) Use the regression variation of your algorithm (without distance weighting) for the [housing price prediction](https://www.cs.toronto.edu/~delve/data/boston/bostonDetail.html) problem.\n",
        "\n",
        "- Use this [training set](https://raw.githubusercontent.com/cs472ta/CS472/master/datasets/housing_train.arff) and this [test set](https://raw.githubusercontent.com/cs472ta/CS472/master/datasets/housing_test.arff).\n",
        "- Use Mean Square Error (MSE) on the test set as your accuracy metric for this case.\n",
        "    - Do not normalize regression output values\n",
        "- Graph MSE on the test set with odd values of k from 1 to 15\n"
      ]
    },
    {
      "cell_type": "code",
      "metadata": {
        "id": "hZ2Rx1iUzPIr"
      },
      "source": [
        "def mse_several_k(k, knn, X, y, X_test, y_test):\n",
        "    mse = []\n",
        "    for k_val in k:\n",
        "        #print(k, knn, X, y, X_test, y_test)\n",
        "        knn.fit(X,y,k_val).predict(X_test, y_test)\n",
        "        print(\"MSE: \", knn.mse)\n",
        "        mse.append(knn.mse)\n",
        "\n",
        "    return mse"
      ],
      "execution_count": 70,
      "outputs": []
    },
    {
      "cell_type": "code",
      "metadata": {
        "colab": {
          "base_uri": "https://localhost:8080/"
        },
        "id": "h2InxWkwcVN_",
        "outputId": "073e7b47-25da-4481-c7ba-25ab27c33e4c"
      },
      "source": [
        "# Load housing price prediction data\n",
        "!curl https://raw.githubusercontent.com/cs472ta/CS472/master/datasets/housing_train.arff --output housing-data.arff\n",
        "train_data = arff.loadarff('housing-data.arff')\n",
        "df = pd.DataFrame(train_data[0])\n",
        "# Remove the 'b' \n",
        "key = 'CHAS'\n",
        "df[key] = df[key].str.decode('utf-8')\n",
        "data = np.array(df)\n",
        "for i in range(data.shape[0]):\n",
        "    for j in range(data.shape[1]):\n",
        "        if data[i][j] != type(float):\n",
        "            data[i][j] = float(data[i][j])\n",
        "X = data[:,0:-1]\n",
        "y = data[:,-1]\n",
        "\n",
        "!curl https://raw.githubusercontent.com/cs472ta/CS472/master/datasets/housing_test.arff --output housing-test-data.arff\n",
        "test_data = arff.loadarff('housing-test-data.arff')\n",
        "columntype = test_data[1].types()\n",
        "columntype = columntype[:-1] # Remove the target columns\n",
        "df = pd.DataFrame(test_data[0])\n",
        "\n",
        "# Remove the 'b' \n",
        "key = 'CHAS'\n",
        "df[key] = df[key].str.decode('utf-8')\n",
        "test_data = np.array(df)\n",
        "\n",
        "# Turn binary vals into numerical\n",
        "for i in range(test_data.shape[0]):\n",
        "    for j in range(test_data.shape[1]):\n",
        "        if test_data[i][j] != type(float):\n",
        "            test_data[i][j] = float(test_data[i][j])\n",
        "\n",
        "for i,lab_type in enumerate(columntype):\n",
        "    if lab_type == \"nominal\":\n",
        "        columntype[i] = \"numeric\"\n",
        "\n",
        "X_test = test_data[:,0:-1]\n",
        "y_test = test_data[:, -1]"
      ],
      "execution_count": 71,
      "outputs": [
        {
          "output_type": "stream",
          "text": [
            "  % Total    % Received % Xferd  Average Speed   Time    Time     Time  Current\n",
            "                                 Dload  Upload   Total   Spent    Left  Speed\n",
            "100 34205  100 34205    0     0   513k      0 --:--:-- --:--:-- --:--:--  513k\n",
            "  % Total    % Received % Xferd  Average Speed   Time    Time     Time  Current\n",
            "                                 Dload  Upload   Total   Spent    Left  Speed\n",
            "100  3885  100  3885    0     0  74711      0 --:--:-- --:--:-- --:--:-- 74711\n"
          ],
          "name": "stdout"
        }
      ]
    },
    {
      "cell_type": "code",
      "metadata": {
        "colab": {
          "base_uri": "https://localhost:8080/",
          "height": 421
        },
        "id": "xGGxjLbdrB_1",
        "outputId": "d53f59d9-53de-4b59-8aed-4a6fac1a7261"
      },
      "source": [
        "# Train/Predict using k=1,3,...,15\n",
        "k_vals = [1, 3, 5, 7, 9, 11, 13, 15]\n",
        "knn6 = KNNClassifier(\"numeric\", columntype, \"no_weight\", True)\n",
        "\n",
        "mse_list = mse_several_k(k_vals, knn6, X, y, X_test, y_test)\n",
        "# Graph MSE over k\n",
        "plt.plot(k_vals, mse_list)\n",
        "plt.xlabel(\"Vals of k (Odd 1 - 15)\")\n",
        "plt.ylabel(\"MSE\")\n",
        "plt.show()"
      ],
      "execution_count": 73,
      "outputs": [
        {
          "output_type": "stream",
          "text": [
            "MSE:  24.608431372549024\n",
            "MSE:  16.598692810457518\n",
            "MSE:  15.89698039215686\n",
            "MSE:  18.96939575830332\n",
            "MSE:  20.65886710239651\n",
            "MSE:  23.49894344514665\n",
            "MSE:  24.513254437869822\n",
            "MSE:  24.278203921568632\n"
          ],
          "name": "stdout"
        },
        {
          "output_type": "display_data",
          "data": {
            "image/png": "[encoded data removed]",
            "text/plain": [
              "<Figure size 432x288 with 1 Axes>"
            ]
          },
          "metadata": {
            "tags": [],
            "needs_background": "light"
          }
        }
      ]
    },
    {
      "cell_type": "markdown",
      "metadata": {
        "id": "v19fpixqTe-7"
      },
      "source": [
        "## 4. (15%) Repeat your experiments for magic telescope and housing using distance-weighted (inverse of distance squared) voting and discuss your results.\n"
      ]
    },
    {
      "cell_type": "code",
      "metadata": {
        "colab": {
          "base_uri": "https://localhost:8080/"
        },
        "id": "S7uP_CeT5IbO",
        "outputId": "57cc66af-29d1-40bf-e1a2-431b80ec9c97"
      },
      "source": [
        "# Load Magic Telescope data\n",
        "!curl https://raw.githubusercontent.com/cs472ta/CS472/master/datasets/magic_telescope_train.arff --output telescope-data.arff\n",
        "train_data = arff.loadarff('telescope-data.arff')\n",
        "df = pd.DataFrame(train_data[0])\n",
        "# Remove the 'b' \n",
        "key = 'class'\n",
        "df[key] = df[key].str.decode('utf-8')\n",
        "data = np.array(df)\n",
        "X = data[:,0:-1]\n",
        "y = data[:,-1]\n",
        "\n",
        "!curl https://raw.githubusercontent.com/cs472ta/CS472/master/datasets/magic_telescope_test.arff --output telescope-test-data.arff\n",
        "test_data = arff.loadarff('telescope-test-data.arff')\n",
        "columntype = test_data[1].types()\n",
        "columntype = columntype[:-1] # Remove the target columns\n",
        "df = pd.DataFrame(test_data[0])\n",
        "# remove the 'b'\n",
        "df['class'] = df[key].str.decode('utf-8')\n",
        "test_data = np.array(df)\n",
        "X_test = test_data[:,0:-1]\n",
        "y_test = test_data[:, -1]"
      ],
      "execution_count": 74,
      "outputs": [
        {
          "output_type": "stream",
          "text": [
            "  % Total    % Received % Xferd  Average Speed   Time    Time     Time  Current\n",
            "                                 Dload  Upload   Total   Spent    Left  Speed\n",
            "100  937k  100  937k    0     0  8371k      0 --:--:-- --:--:-- --:--:-- 8447k\n",
            "  % Total    % Received % Xferd  Average Speed   Time    Time     Time  Current\n",
            "                                 Dload  Upload   Total   Spent    Left  Speed\n",
            "100  505k  100  505k    0     0  4515k      0 --:--:-- --:--:-- --:--:-- 4515k\n"
          ],
          "name": "stdout"
        }
      ]
    },
    {
      "cell_type": "code",
      "metadata": {
        "colab": {
          "base_uri": "https://localhost:8080/"
        },
        "id": "D4fXHrA25ob9",
        "outputId": "b06de8aa-2b5c-4808-9afd-5ee41e77e9ec"
      },
      "source": [
        "# Without Normalization but with weights\n",
        "knn7 = KNNClassifier(\"categorical\", columntype,\"inverse_distance\", False)\n",
        "knn7.fit(X,y,3).predict(X_test, y_test)\n",
        "print(\"Accuracy: \", knn7.accuracy)"
      ],
      "execution_count": 38,
      "outputs": [
        {
          "output_type": "stream",
          "text": [
            "/usr/local/lib/python3.7/dist-packages/ipykernel_launcher.py:112: RuntimeWarning: divide by zero encountered in double_scalars\n"
          ],
          "name": "stderr"
        },
        {
          "output_type": "stream",
          "text": [
            "Accuracy:  0.8085808580858086\n"
          ],
          "name": "stdout"
        }
      ]
    },
    {
      "cell_type": "code",
      "metadata": {
        "id": "F5NUP75j5slS",
        "colab": {
          "base_uri": "https://localhost:8080/"
        },
        "outputId": "a6e4f2e6-139f-4a52-9970-49b55c702182"
      },
      "source": [
        "# With Normalization AND with weights\n",
        "\n",
        "# Train and Predict on training and test set\n",
        "knn8 = KNNClassifier(\"categorical\", columntype,\"inverse_distance\", True)\n",
        "knn8.fit(X,y,3).predict(X_test, y_test)\n",
        "print(\"Accuracy: \", knn8.accuracy)"
      ],
      "execution_count": 39,
      "outputs": [
        {
          "output_type": "stream",
          "text": [
            "/usr/local/lib/python3.7/dist-packages/ipykernel_launcher.py:112: RuntimeWarning: divide by zero encountered in double_scalars\n"
          ],
          "name": "stderr"
        },
        {
          "output_type": "stream",
          "text": [
            "Accuracy:  0.8310831083108311\n"
          ],
          "name": "stdout"
        }
      ]
    },
    {
      "cell_type": "code",
      "metadata": {
        "colab": {
          "base_uri": "https://localhost:8080/",
          "height": 296
        },
        "id": "H447PHb86BZZ",
        "outputId": "80ef80a6-885f-440c-c400-f9ec28901632"
      },
      "source": [
        "# Train/Predict with normalization using k=1,3,...,15 AND weights\n",
        "k_vals = [1, 3, 5, 7, 9, 11, 13, 15]\n",
        "knn9 = KNNClassifier(\"categorical\", columntype,\"inverse_distance\", True)\n",
        "accuracy_list = predict_with_several_k(k_vals, knn9, X, y, X_test, y_test)\n",
        "\n",
        "plt.plot(k_vals, accuracy_list)\n",
        "plt.xlabel(\"Vals of k (Odd 1 - 15)\")\n",
        "plt.ylabel(\"Accuracy\")\n",
        "plt.show()"
      ],
      "execution_count": 40,
      "outputs": [
        {
          "output_type": "stream",
          "text": [
            "/usr/local/lib/python3.7/dist-packages/ipykernel_launcher.py:112: RuntimeWarning: divide by zero encountered in double_scalars\n"
          ],
          "name": "stderr"
        },
        {
          "output_type": "display_data",
          "data": {
            "image/png": "[encoded data removed]",
            "text/plain": [
              "<Figure size 432x288 with 1 Axes>"
            ]
          },
          "metadata": {
            "tags": [],
            "needs_background": "light"
          }
        }
      ]
    },
    {
      "cell_type": "code",
      "metadata": {
        "id": "ZCPFUAGTS2sX",
        "colab": {
          "base_uri": "https://localhost:8080/"
        },
        "outputId": "d929d1f1-00e0-4024-f45e-b5b3424d7010"
      },
      "source": [
        "# Load housing price prediction data using distance-weighted voting\n",
        "!curl https://raw.githubusercontent.com/cs472ta/CS472/master/datasets/housing_train.arff --output housing-data.arff\n",
        "train_data = arff.loadarff('housing-data.arff')\n",
        "df = pd.DataFrame(train_data[0])\n",
        "# Remove the 'b' \n",
        "key = 'CHAS'\n",
        "df[key] = df[key].str.decode('utf-8')\n",
        "data = np.array(df)\n",
        "# for i in range(data.shape[0]):\n",
        "#     for j in range(data.shape[1]):\n",
        "#         if data[i][j] != type(float):\n",
        "#             data[i][j] = float(data[i][j])\n",
        "X = data[:,0:-1]\n",
        "y = data[:,-1]\n",
        "\n",
        "!curl https://raw.githubusercontent.com/cs472ta/CS472/master/datasets/housing_test.arff --output housing-test-data.arff\n",
        "test_data = arff.loadarff('housing-test-data.arff')\n",
        "columntype = test_data[1].types()\n",
        "columntype = columntype[:-1] # Remove the target columns\n",
        "df = pd.DataFrame(test_data[0])\n",
        "\n",
        "# Remove the 'b' \n",
        "key = 'CHAS'\n",
        "df[key] = df[key].str.decode('utf-8')\n",
        "test_data = np.array(df)\n",
        "\n",
        "# for i in range(test_data.shape[0]):\n",
        "#     for j in range(test_data.shape[1]):\n",
        "#         if test_data[i][j] != type(float):\n",
        "#             test_data[i][j] = float(test_data[i][j])\n",
        "\n",
        "X_test = test_data[:,0:-1]\n",
        "y_test = test_data[:, -1]"
      ],
      "execution_count": 78,
      "outputs": [
        {
          "output_type": "stream",
          "text": [
            "  % Total    % Received % Xferd  Average Speed   Time    Time     Time  Current\n",
            "                                 Dload  Upload   Total   Spent    Left  Speed\n",
            "100 34205  100 34205    0     0   566k      0 --:--:-- --:--:-- --:--:--  575k\n",
            "  % Total    % Received % Xferd  Average Speed   Time    Time     Time  Current\n",
            "                                 Dload  Upload   Total   Spent    Left  Speed\n",
            "100  3885  100  3885    0     0  71944      0 --:--:-- --:--:-- --:--:-- 71944\n"
          ],
          "name": "stdout"
        }
      ]
    },
    {
      "cell_type": "code",
      "metadata": {
        "id": "EmV38USw5K8i",
        "colab": {
          "base_uri": "https://localhost:8080/"
        },
        "outputId": "a8851c9b-dfea-4c65-c7d2-8758843fff34"
      },
      "source": [
        "# Without Normalization but with weights\n",
        "knn10 = KNNClassifier(\"numeric\", columntype,\"inverse_distance\", False)\n",
        "knn10.fit(X,y,3).predict(X_test, y_test)\n",
        "print(\"MSE: \", knn10.mse)"
      ],
      "execution_count": 47,
      "outputs": [
        {
          "output_type": "stream",
          "text": [
            "MSE:  52.46663547423204\n"
          ],
          "name": "stdout"
        }
      ]
    },
    {
      "cell_type": "code",
      "metadata": {
        "id": "t1I6OAei5L2b",
        "colab": {
          "base_uri": "https://localhost:8080/"
        },
        "outputId": "2017e244-ab86-4f21-8a4f-e814d77f8dca"
      },
      "source": [
        "# With Normalization AND with weights\n",
        "knn11 = KNNClassifier(\"numeric\", columntype,\"inverse_distance\", True)\n",
        "knn11.fit(X,y,3).predict(X_test, y_test)\n",
        "print(\"MSE: \", knn11.mse)"
      ],
      "execution_count": 77,
      "outputs": [
        {
          "output_type": "stream",
          "text": [
            "MSE:  16.361204005940902\n"
          ],
          "name": "stdout"
        }
      ]
    },
    {
      "cell_type": "code",
      "metadata": {
        "colab": {
          "base_uri": "https://localhost:8080/",
          "height": 421
        },
        "id": "_WirldkA18qK",
        "outputId": "42852b85-8234-43da-abf2-3fa80e42831e"
      },
      "source": [
        "# Train/Predict using k=1,3,...,15\n",
        "k_vals = [1, 3, 5, 7, 9, 11, 13, 15]\n",
        "knn12 = KNNClassifier(\"numeric\", columntype, \"inverse_distance\", True)\n",
        "mse = mse_several_k(k_vals, knn12, X, y, X_test, y_test)\n",
        "# Graph MSE over k\n",
        "plt.plot(k_vals, mse)\n",
        "plt.xlabel(\"Vals of k (Odd 1 - 15)\")\n",
        "plt.ylabel(\"MSE\")\n",
        "plt.show()"
      ],
      "execution_count": 79,
      "outputs": [
        {
          "output_type": "stream",
          "text": [
            "MSE:  24.608431372549024\n",
            "MSE:  16.361204005940902\n",
            "MSE:  12.119627591906248\n",
            "MSE:  10.736267400258757\n",
            "MSE:  11.324686866173366\n",
            "MSE:  11.51191258782557\n",
            "MSE:  11.605024714527104\n",
            "MSE:  11.818911599929255\n"
          ],
          "name": "stdout"
        },
        {
          "output_type": "display_data",
          "data": {
            "image/png": "[encoded data removed]",
            "text/plain": [
              "<Figure size 432x288 with 1 Axes>"
            ]
          },
          "metadata": {
            "tags": [],
            "needs_background": "light"
          }
        }
      ]
    },
    {
      "cell_type": "markdown",
      "metadata": {
        "id": "O6iMG4RGShw4"
      },
      "source": [
        "When using the wieghting distance with the telesope data it had the exact same accuracy. Theoretically weighted distance will preform better in some situations becuause if a point to predict was on top of a crest with one other point near the top of the mountain, 3 other points in a nearby valley wouldn't have as much effect on the prediction because the nearby point, despite there only being 1 would be weighted heavily. The best model we found had k = 11, inverse distance weighting, and data normalization, with an accuracy of around %85.\n",
        "\n",
        "With the house data set, the MSE drastically decreased from 52 to 16 simply by normalizing the data. The optimal MSE was found to be 11.3 with parameters k = 7, inverse distance weighting, and data normalization."
      ]
    },
    {
      "cell_type": "markdown",
      "metadata": {
        "id": "ayJm_txyShw4"
      },
      "source": [
        "## 5. (10%) Use the k-nearest neighbor algorithm to solve the [credit-approval](https://archive.ics.uci.edu/ml/datasets/Credit+Approval) (credit-a) problem.\n",
        "\n",
        "- Use this [dataset](https://raw.githubusercontent.com/cs472ta/CS472/master/datasets/credit_approval.arff.txt)\n",
        "    - Use a 70/30 split of the data for the training/test set\n",
        "- Note that this set has both continuous and nominal attributes, together with don’t know values. \n",
        "- Implement and justify a distance metric which supports continuous, nominal, and don’t know attribute values\n",
        "    - You need to handle don't knows with the distance metric, not by imputing a value.\n",
        "    - More information on distance metrics can be found [here](https://www.jair.org/index.php/jair/article/view/10182/24168).\n",
        "- Use your own choice for k.\n",
        "- As a rough sanity check, typical knn accuracies for the credit data set are 70-80%.\n"
      ]
    },
    {
      "cell_type": "code",
      "metadata": {
        "id": "0HDGTVjiHJli"
      },
      "source": [
        "def remove_b(keys, df):\n",
        "    for key in keys:\n",
        "        df[key] = df[key].str.decode('utf-8')\n",
        "    return df\n"
      ],
      "execution_count": 80,
      "outputs": []
    },
    {
      "cell_type": "markdown",
      "metadata": {
        "id": "eWvUjRvQPyfV"
      },
      "source": [
        "HANDLE DISTANCE METRIC WITHOUT IMPUTING VALUES"
      ]
    },
    {
      "cell_type": "code",
      "metadata": {
        "colab": {
          "base_uri": "https://localhost:8080/"
        },
        "id": "-J-dMlooPw5x",
        "outputId": "a44a0884-b52e-4209-c5c7-9897e39a346e"
      },
      "source": [
        "# Load Credit-approval dataset and split into train/test sets\n",
        "!curl https://raw.githubusercontent.com/cs472ta/CS472/master/datasets/credit_approval.arff --output credit-approval-data.arff\n",
        "train_data = arff.loadarff('credit-approval-data.arff')\n",
        "columntype = train_data[1].types()\n",
        "columntype = columntype[:-1] # Remove the target columns\n",
        "df = pd.DataFrame(train_data[0])\n",
        "# Remove 'b'\n",
        "keys = [\"A1\", \"A4\",\"A5\",\"A6\",\"A7\",\"A9\",\"A10\", \"A12\", \"A13\", \"class\"]\n",
        "df = remove_b(keys, df)\n",
        "\n",
        "data = np.array(df)\n",
        "\n",
        "# Split into training and test set \n",
        "X = data[:,0:-1]\n",
        "y = data[:,-1]\n",
        "X_train, X_test, y_train, y_test = train_test_split(X, y, test_size = 0.3, random_state=42) \n",
        "# Train/Predict credit-approval"
      ],
      "execution_count": 90,
      "outputs": [
        {
          "output_type": "stream",
          "text": [
            "  % Total    % Received % Xferd  Average Speed   Time    Time     Time  Current\n",
            "                                 Dload  Upload   Total   Spent    Left  Speed\n",
            "\r  0     0    0     0    0     0      0      0 --:--:-- --:--:-- --:--:--     0\r100 34315  100 34315    0     0   274k      0 --:--:-- --:--:-- --:--:--  274k\n"
          ],
          "name": "stdout"
        }
      ]
    },
    {
      "cell_type": "code",
      "metadata": {
        "colab": {
          "base_uri": "https://localhost:8080/",
          "height": 281
        },
        "id": "t7yl849IQ9-p",
        "outputId": "8a5f93be-2fdf-4199-e6f6-b60ed8491087"
      },
      "source": [
        "knn14 = KNNClassifier(\"categorical\", columntype,\"inverse_distance\", False)\n",
        "accuracy_list = predict_with_several_k(k_vals, knn14, X_train, y_train, X_test, y_test)\n",
        "\n",
        "plt.plot(k_vals, accuracy_list)\n",
        "plt.xlabel(\"Vals of k (Odd 1 - 15)\")\n",
        "plt.ylabel(\"Accuracy\")\n",
        "plt.show()"
      ],
      "execution_count": 96,
      "outputs": [
        {
          "output_type": "display_data",
          "data": {
            "image/png": "[encoded data removed]",
            "text/plain": [
              "<Figure size 432x288 with 1 Axes>"
            ]
          },
          "metadata": {
            "tags": [],
            "needs_background": "light"
          }
        }
      ]
    },
    {
      "cell_type": "code",
      "metadata": {
        "colab": {
          "base_uri": "https://localhost:8080/"
        },
        "id": "EnMrwVScQF50",
        "outputId": "d399dbe1-3172-4dcf-b131-6d9ae6711568"
      },
      "source": [
        "# With Normalization AND with weights\n",
        "knn15 = KNNClassifier(\"categorical\", columntype,\"inverse_distance\", False)\n",
        "knn15.fit(X_train,y_train,1).predict(X_test, y_test)\n",
        "print(\"Accuracy: \", knn15.accuracy)"
      ],
      "execution_count": 98,
      "outputs": [
        {
          "output_type": "stream",
          "text": [
            "Accuracy:  0.6086956521739131\n"
          ],
          "name": "stdout"
        }
      ]
    },
    {
      "cell_type": "markdown",
      "metadata": {
        "id": "78LzJbOJShw6"
      },
      "source": [
        "I used the HVDM metric due to the simplicity in the concept. The difficulty with categorical data is the fact that we don't know how close one categorical variable is to another. This metric simply adds a distance of 1 (plus whatever weighted value) if a category of one point does not match the category of another. If they do match, the value is simply 1. In this example, the output label of the prediction was Nominal. When using Nominal data, votes for which category the point should be classified as are calculated by using the distance to weight the amount of a vote. The inverse of distance squared was the metric and that made it so as the distance increased, the vote counted less and less.k As the distance decreased, or as the denominator approached 0, the weight applied to the vote increased.  "
      ]
    },
    {
      "cell_type": "markdown",
      "metadata": {
        "id": "oBBmeNQ7jvcQ"
      },
      "source": [
        "## 6. (15%) Use the scikit's KNN Classifier on magic telescope and KNN Regressor on housing and compare your results.\n",
        "\n",
        "- Try out different hyperparameters to see how well you can do. \n"
      ]
    },
    {
      "cell_type": "code",
      "metadata": {
        "id": "_i3UjGHAUQUz"
      },
      "source": [
        "def test_ks():\n",
        "  ks = [1, 3, 5, 7, 9, 11, 13, 15]\n",
        "  for k in ks:\n",
        "      knn_SK = KNeighborsClassifier(n_neighbors=k) \n",
        "      knn_SK.fit(X, y)\n",
        "      preds = knn_SK.predict(X_test)\n",
        "      correct = 0\n",
        "      total = len(preds)\n",
        "      for i in range(len(preds)): # For each prediction\n",
        "          if preds[i] == y_test[i]:\n",
        "              correct += 1\n",
        "      print(\"k =\", k,\" Accuracy: \", correct / total)\n",
        "      test_metrics(k)"
      ],
      "execution_count": 148,
      "outputs": []
    },
    {
      "cell_type": "code",
      "metadata": {
        "id": "MueVaI0ZV8XB"
      },
      "source": [
        "def test_metrics(k):\n",
        "  ps = [1, 2, 3]\n",
        "  for p_val in ps:\n",
        "      knn_SK = KNeighborsClassifier(n_neighbors=k, p = p_val) \n",
        "      knn_SK.fit(X, y)\n",
        "      preds = knn_SK.predict(X_test)\n",
        "      correct = 0\n",
        "      total = len(preds)\n",
        "      for i in range(len(preds)): # For each prediction\n",
        "          if preds[i] == y_test[i]:\n",
        "              correct += 1\n",
        "      if p_val == 1:\n",
        "          print(\"Manhatten Distance Accuracy: \", correct / total)\n",
        "      if p_val == 2:\n",
        "          print(\"Euclidean Distance Accuracy: \", correct / total)\n",
        "      if p_val == 3:\n",
        "          print(\"Minkowski Distance Accuracy: \", correct / total, \"\\n\\n\")\n",
        "      "
      ],
      "execution_count": 135,
      "outputs": []
    },
    {
      "cell_type": "code",
      "metadata": {
        "id": "1Li5jjAvYlAk"
      },
      "source": [
        "def test_ks_reg():\n",
        "  ks = [1, 3, 5, 7, 9, 11, 13, 15]\n",
        "  for k in ks:\n",
        "      knn_SK = KNeighborsRegressor(n_neighbors=k) \n",
        "      knn_SK.fit(X, y)\n",
        "      score = knn_SK.score(X_test, y_test)\n",
        "      print(\"k =\", k,\" R-sqaured: \", score)\n",
        "      test_metrics_reg(k)"
      ],
      "execution_count": 149,
      "outputs": []
    },
    {
      "cell_type": "code",
      "metadata": {
        "id": "7hxyYWT8YlUN"
      },
      "source": [
        "def test_metrics_reg(k):\n",
        "  ps = [1, 2, 3]\n",
        "  for p_val in ps:\n",
        "      knn_SK = KNeighborsRegressor(n_neighbors=k, p = p_val) \n",
        "      knn_SK.fit(X, y)\n",
        "      score = knn_SK.score(X_test, y_test)\n",
        "      \n",
        "      if p_val == 1:\n",
        "          print(\"Manhatten Distance R-squared: \", score)\n",
        "      if p_val == 2:\n",
        "          print(\"Euclidean Distance R-squared: \", score)\n",
        "      if p_val == 3:\n",
        "          print(\"Minkowski Distance R-squared: \", score, \"\\n\\n\")"
      ],
      "execution_count": 137,
      "outputs": []
    },
    {
      "cell_type": "code",
      "metadata": {
        "colab": {
          "base_uri": "https://localhost:8080/"
        },
        "id": "gdmo8JRMsr1l",
        "outputId": "6a1da5a4-6a0b-417d-c036-18955b6057fd"
      },
      "source": [
        "# Train/Predict magic telescope using scikit's KNN\n",
        "# Load Magic Telescope data\n",
        "!curl https://raw.githubusercontent.com/cs472ta/CS472/master/datasets/magic_telescope_train.arff --output telescope-data.arff\n",
        "train_data = arff.loadarff('telescope-data.arff')\n",
        "df = pd.DataFrame(train_data[0])\n",
        "# Remove the 'b' \n",
        "key = 'class'\n",
        "df[key] = df[key].str.decode('utf-8')\n",
        "data = np.array(df)\n",
        "X = data[:,0:-1]\n",
        "y = data[:,-1]\n",
        "\n",
        "!curl https://raw.githubusercontent.com/cs472ta/CS472/master/datasets/magic_telescope_test.arff --output telescope-test-data.arff\n",
        "test_data = arff.loadarff('telescope-test-data.arff')\n",
        "df = pd.DataFrame(test_data[0])\n",
        "# remove the 'b'\n",
        "df['class'] = df[key].str.decode('utf-8')\n",
        "test_data = np.array(df)\n",
        "X_test = test_data[:,0:-1]\n",
        "y_test = test_data[:, -1]"
      ],
      "execution_count": 146,
      "outputs": [
        {
          "output_type": "stream",
          "text": [
            "  % Total    % Received % Xferd  Average Speed   Time    Time     Time  Current\n",
            "                                 Dload  Upload   Total   Spent    Left  Speed\n",
            "100  937k  100  937k    0     0  3135k      0 --:--:-- --:--:-- --:--:-- 3135k\n",
            "  % Total    % Received % Xferd  Average Speed   Time    Time     Time  Current\n",
            "                                 Dload  Upload   Total   Spent    Left  Speed\n",
            "100  505k  100  505k    0     0  2385k      0 --:--:-- --:--:-- --:--:-- 2385k\n"
          ],
          "name": "stdout"
        }
      ]
    },
    {
      "cell_type": "code",
      "metadata": {
        "colab": {
          "base_uri": "https://localhost:8080/"
        },
        "id": "BzyqgpdYSbsB",
        "outputId": "5c42aa98-94fd-4263-d146-acdd18b61bad"
      },
      "source": [
        "print(\"Telescope data with SKLearn Classifier\\n\")\n",
        "print(\" Testing different metrics with different values of K \")\n",
        "#print(\" Defaults(Minkowski metric, weighting: uniform)\")\n",
        "test_ks()\n",
        "#print(\" Testing different metrics\")\n",
        "#print(\" Defaults(k = 5, weighting: uniform)\")"
      ],
      "execution_count": 150,
      "outputs": [
        {
          "output_type": "stream",
          "text": [
            "Telescope data with SKLearn Classifier\n",
            "\n",
            " Testing different metrics with different values of K \n",
            "k = 1  Accuracy:  0.7856285628562857\n",
            "Manhatten Distance Accuracy:  0.7913291329132913\n",
            "Euclidean Distance Accuracy:  0.7856285628562857\n",
            "Minkowski Distance Accuracy:  0.7835283528352835 \n",
            "\n",
            "\n",
            "k = 3  Accuracy:  0.8082808280828083\n",
            "Manhatten Distance Accuracy:  0.8093309330933093\n",
            "Euclidean Distance Accuracy:  0.8082808280828083\n",
            "Minkowski Distance Accuracy:  0.8052805280528053 \n",
            "\n",
            "\n",
            "k = 5  Accuracy:  0.8136813681368137\n",
            "Manhatten Distance Accuracy:  0.8178817881788178\n",
            "Euclidean Distance Accuracy:  0.8136813681368137\n",
            "Minkowski Distance Accuracy:  0.8120312031203121 \n",
            "\n",
            "\n",
            "k = 7  Accuracy:  0.8156315631563157\n",
            "Manhatten Distance Accuracy:  0.8198319831983198\n",
            "Euclidean Distance Accuracy:  0.8156315631563157\n",
            "Minkowski Distance Accuracy:  0.8121812181218122 \n",
            "\n",
            "\n",
            "k = 9  Accuracy:  0.8181818181818182\n",
            "Manhatten Distance Accuracy:  0.8204320432043204\n",
            "Euclidean Distance Accuracy:  0.8181818181818182\n",
            "Minkowski Distance Accuracy:  0.8166816681668166 \n",
            "\n",
            "\n",
            "k = 11  Accuracy:  0.8205820582058205\n",
            "Manhatten Distance Accuracy:  0.8186318631863186\n",
            "Euclidean Distance Accuracy:  0.8205820582058205\n",
            "Minkowski Distance Accuracy:  0.8175817581758176 \n",
            "\n",
            "\n",
            "k = 13  Accuracy:  0.8205820582058205\n",
            "Manhatten Distance Accuracy:  0.8162316231623162\n",
            "Euclidean Distance Accuracy:  0.8205820582058205\n",
            "Minkowski Distance Accuracy:  0.8175817581758176 \n",
            "\n",
            "\n",
            "k = 15  Accuracy:  0.8207320732073208\n",
            "Manhatten Distance Accuracy:  0.8181818181818182\n",
            "Euclidean Distance Accuracy:  0.8207320732073208\n",
            "Minkowski Distance Accuracy:  0.8195319531953196 \n",
            "\n",
            "\n"
          ],
          "name": "stdout"
        }
      ]
    },
    {
      "cell_type": "code",
      "metadata": {
        "id": "tmtKsDJIocyi",
        "colab": {
          "base_uri": "https://localhost:8080/"
        },
        "outputId": "775220f1-3b93-4601-9ab9-5959eab3f12f"
      },
      "source": [
        "# Load housing price prediction data\n",
        "!curl https://raw.githubusercontent.com/cs472ta/CS472/master/datasets/housing_train.arff --output housing-data.arff\n",
        "train_data = arff.loadarff('housing-data.arff')\n",
        "df = pd.DataFrame(train_data[0])\n",
        "data = np.array(df)\n",
        "X = data[:,0:-1]\n",
        "y = data[:,-1]\n",
        "\n",
        "!curl https://raw.githubusercontent.com/cs472ta/CS472/master/datasets/housing_test.arff --output housing-test-data.arff\n",
        "test_data = arff.loadarff('housing-test-data.arff')\n",
        "df = pd.DataFrame(test_data[0])\n",
        "test_data = np.array(df)\n",
        "X_test = test_data[:,0:-1]\n",
        "y_test = test_data[:, -1]"
      ],
      "execution_count": 151,
      "outputs": [
        {
          "output_type": "stream",
          "text": [
            "  % Total    % Received % Xferd  Average Speed   Time    Time     Time  Current\n",
            "                                 Dload  Upload   Total   Spent    Left  Speed\n",
            "100 34205  100 34205    0     0   392k      0 --:--:-- --:--:-- --:--:--  392k\n",
            "  % Total    % Received % Xferd  Average Speed   Time    Time     Time  Current\n",
            "                                 Dload  Upload   Total   Spent    Left  Speed\n",
            "100  3885  100  3885    0     0  26428      0 --:--:-- --:--:-- --:--:-- 26609\n"
          ],
          "name": "stdout"
        }
      ]
    },
    {
      "cell_type": "code",
      "metadata": {
        "id": "OFQv70W2VyqJ",
        "colab": {
          "base_uri": "https://localhost:8080/"
        },
        "outputId": "0b80ba8a-8ee7-49a7-b218-e82ba3feeea8"
      },
      "source": [
        "# Train/Predict housing using scikit's KNN\n",
        "print(\"House data with SKLearn Regressor\\n\")\n",
        "print(\" Testing different metrics with different values of K, Default: Euclidean \")\n",
        "test_ks_reg()\n"
      ],
      "execution_count": 153,
      "outputs": [
        {
          "output_type": "stream",
          "text": [
            "House data with SKLearn Regressor\n",
            "\n",
            " Testing different metrics with different values of K, Default: Euclidean \n",
            "k = 1  R-sqaured:  0.20057879812377452\n",
            "Manhatten Distance R-squared:  0.33668750770665645\n",
            "Euclidean Distance R-squared:  0.20057879812377452\n",
            "Minkowski Distance R-squared:  0.15426090191534425 \n",
            "\n",
            "\n",
            "k = 3  R-sqaured:  0.3089347485187751\n",
            "Manhatten Distance R-squared:  0.5239194218245957\n",
            "Euclidean Distance R-squared:  0.3089347485187751\n",
            "Minkowski Distance R-squared:  0.22292245846883407 \n",
            "\n",
            "\n",
            "k = 5  R-sqaured:  0.25491902354492035\n",
            "Manhatten Distance R-squared:  0.5019074141723017\n",
            "Euclidean Distance R-squared:  0.25491902354492035\n",
            "Minkowski Distance R-squared:  0.17347095770627008 \n",
            "\n",
            "\n",
            "k = 7  R-sqaured:  0.2979443003218095\n",
            "Manhatten Distance R-squared:  0.5854929026153172\n",
            "Euclidean Distance R-squared:  0.2979443003218095\n",
            "Minkowski Distance R-squared:  0.22878778243746356 \n",
            "\n",
            "\n",
            "k = 9  R-sqaured:  0.3304110364341829\n",
            "Manhatten Distance R-squared:  0.5345249535997172\n",
            "Euclidean Distance R-squared:  0.3304110364341829\n",
            "Minkowski Distance R-squared:  0.2885487958523234 \n",
            "\n",
            "\n",
            "k = 11  R-sqaured:  0.342190826945472\n",
            "Manhatten Distance R-squared:  0.5100113096564451\n",
            "Euclidean Distance R-squared:  0.342190826945472\n",
            "Minkowski Distance R-squared:  0.34196934264595047 \n",
            "\n",
            "\n",
            "k = 13  R-sqaured:  0.4286219257725167\n",
            "Manhatten Distance R-squared:  0.5061462270596468\n",
            "Euclidean Distance R-squared:  0.4286219257725167\n",
            "Minkowski Distance R-squared:  0.36320487781655586 \n",
            "\n",
            "\n",
            "k = 15  R-sqaured:  0.4596120931876114\n",
            "Manhatten Distance R-squared:  0.49238894664038924\n",
            "Euclidean Distance R-squared:  0.4596120931876114\n",
            "Minkowski Distance R-squared:  0.33255986611060684 \n",
            "\n",
            "\n"
          ],
          "name": "stdout"
        }
      ]
    },
    {
      "cell_type": "markdown",
      "metadata": {
        "id": "BqSFAXwlk3Ms"
      },
      "source": [
        "Note* All of the models utilized normalized values\n",
        "\n",
        "Observations of the Telescope Data set:\n",
        "\n",
        "The optimal model had an accuracy of %82.07 with the parameters k=15, and the  Euclidean distance metric. On average the Euclidean distance preformed better than the Manhatten and the Minkowski in this order. As k increased, so did accuracy, until it tapered off at 82%. To calculate all different iterations took around 10 seconds.\n",
        "\n",
        "Observations of the Housing Data set:\n",
        "\n",
        "The optimal model had an MSE of .58 with the parameters k=7, and the Manhatten distance. The Manhatten distance preformed best by a large margin followed by the Euclidean distance metric, followed by a poor preforming Minkowski Distance. The model took less than a second to calculate all iterations and was much better than the Nominal KNN classifier in terms of speed. Overal our best model had an okay r-sqared, showing us that our data was able to explain %58 of the variation in predicted results. This tells us that our model predicts from the data well."
      ]
    },
    {
      "cell_type": "markdown",
      "metadata": {
        "id": "cTlK-kijk8Mg"
      },
      "source": [
        "## 7. (optional 5% extra credit): For the best value of k for any one of the datasets, implement a reduction algorithm that removes data points in some rational way such that performance does not drop too drastically on the test set given the reduced training set.\n",
        "\n",
        "- Compare your performance on the test set for the reduced and non-reduced versions and give the number (and percentage) of training examples removed from the original training set. How well does your reduction algorithm work?\n",
        "    - Note that performance for magic telescope is classification accuracy and for housing it is mean squared error.\n",
        "    - Magic Telescope has about 12,000 instances and if you use a leave one out style of testing for your data set reduction, then your algorithm will run slow since that is n2 at each step.\n",
        "    - If you wish, you may use a random subset of 2,000 of the magic telescope instances.\n",
        "    - More information on reduction techniques can be found [here](http://axon.cs.byu.edu/~martinez/classes/478/slides/IBL.pdf).\n"
      ]
    },
    {
      "cell_type": "code",
      "metadata": {
        "id": "5iY77P7gk1Nh"
      },
      "source": [
        ""
      ],
      "execution_count": null,
      "outputs": []
    }
  ]
}